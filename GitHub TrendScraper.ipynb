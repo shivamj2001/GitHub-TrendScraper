{
  "nbformat": 4,
  "nbformat_minor": 0,
  "metadata": {
    "colab": {
      "provenance": [],
      "authorship_tag": "ABX9TyNCm6Z0/NnF3d1BFAxwQFrb",
      "include_colab_link": true
    },
    "kernelspec": {
      "name": "python3",
      "display_name": "Python 3"
    },
    "language_info": {
      "name": "python"
    }
  },
  "cells": [
    {
      "cell_type": "markdown",
      "metadata": {
        "id": "view-in-github",
        "colab_type": "text"
      },
      "source": [
        "<a href=\"https://colab.research.google.com/github/shivamj2001/GitHub-TrendScraper/blob/main/GitHub%20TrendScraper.ipynb\" target=\"_parent\"><img src=\"https://colab.research.google.com/assets/colab-badge.svg\" alt=\"Open In Colab\"/></a>"
      ]
    },
    {
      "cell_type": "markdown",
      "source": [
        "#**Scrapping Top Repositories for Topics on GitHub**\n",
        "\n",
        "\n",
        "\n",
        "## *  **Web Scraping**:\n",
        " is the process of extracting data from websites. It involves fetching the HTML content of a web page and then parsing it to extract the desired information. Web scraping can be done manually, but it's often automated using programming languages like Python.\n",
        "## *   **Introduction to GitHub**:\n",
        "GitHub is a web-based platform used for version control and collaboration on software development projects. It provides features like code hosting, version control using Git, project management, and collaboration tools. GitHub allows developers to store their code repositories, track changes, and collaborate with other developers through features like pull requests, issues, and wikis. It has become one of the most popular platforms for open-source projects and fosters a vibrant community of developers worldwide.\n",
        "\n",
        "\n",
        "\n",
        "*   **Problem Statement**:\n",
        "-> Scraping Top Repositories for Top 30 Topics on GitHub\n",
        "The problem statement involves scraping the top repositories for the top 30 topics on GitHub. GitHub categorizes repositories under various topics, ranging from programming languages and frameworks to specific technologies and tools. The goal is to extract information about the top repositories for each of these topics, including details such as repository name, stars count, and URL. This information can be valuable for developers, researchers, and businesses to discover trending projects, analyze popular technologies, and stay updated with the latest developments in the software industry.\n",
        "*  Objectives:\n",
        "-> Scrape Data: Develop a web scraping script to extract information about the top repositories for each of the top 30 topics on GitHub.\n",
        "-> Retrieve Repository Details: Extract details such as repository name, stars count, and URL for each scraped repository.\n",
        "-> Customizable Interface: Provide a customizable interface to search for repositories based on topics and adjust parameters like the number of repositories to fetch.\n",
        "-> Data Presentation: Present the scraped data in a structured format, such as a table or CSV file, for easy analysis and interpretation.\n",
        "\n",
        "\n",
        "*   Benefits:\n",
        "-> Insightful Analysis: Gain insights into trending projects, popular technologies, and community preferences on GitHub.\n",
        "-> Resource Discovery: Discover valuable resources, libraries, and tools relevant to specific topics or domains.\n",
        "-> Community Engagement: Foster collaboration and knowledge sharing within the developer community by highlighting noteworthy projects and contributions.\n",
        "\n",
        "*  Tools used : Python, Requests, BeautifulSoup, pandas.\n",
        "\n",
        "\n",
        "\n",
        "\n",
        "\n"
      ],
      "metadata": {
        "id": "zhnYG86Aa_Ae"
      }
    },
    {
      "cell_type": "markdown",
      "source": [
        "Here are the steps we'll follow:\n",
        "\n",
        "*  We're going to scrape \" https://github.com/topics \"\n",
        "\n",
        "*   We'll get a list of topics. For each topic, we'll get topic title, topic page URL and topic description\n",
        "\n",
        "*   For each topic, we'll get the top 25 repositories in the topic from the topic page\n",
        "*   For each Repositories, we'll grab the repo name, username, stars and repo URL\n",
        "\n",
        "\n",
        "*   For each topic we'll create a CSV file in the following format :\n",
        "   \n",
        "   Repo Namee , Username , Stars , Repo URL\n",
        "   three.js , mrdoob , 96700 , https://github.com/mrdoob/three.js"
      ],
      "metadata": {
        "id": "_3eOhLi8fJNf"
      }
    },
    {
      "cell_type": "markdown",
      "source": [
        "#Scrape the list of topics from Github\n",
        "- use requests to download the page\n",
        "- user BS4 to parse and extract information\n",
        "- convert to a pandas dataframe"
      ],
      "metadata": {
        "id": "NSVqyMY5il0g"
      }
    },
    {
      "cell_type": "markdown",
      "source": [
        "Let's write a function to download the page."
      ],
      "metadata": {
        "id": "ovOKzDvIs6vp"
      }
    },
    {
      "cell_type": "code",
      "source": [
        "def get_topic_page():\n",
        "  # Download the page\n",
        "  topic_url = 'https://github.com/topics'\n",
        "  response = requests.get(topic_url)\n",
        "  # Check successful response\n",
        "  if response.status_code != 200:\n",
        "       raise Exception('Failed to load page {}'.format(topic_url))\n",
        "  # Parse using BeautifulSoup\n",
        "  topic_doc = BeautifulSoup(response.text, 'html.parser')\n",
        "  return topic_doc"
      ],
      "metadata": {
        "id": "kEs71G5PtBPr"
      },
      "execution_count": null,
      "outputs": []
    },
    {
      "cell_type": "markdown",
      "source": [
        "- we have downloaded the page by request.get function and saved it in response file the content in the response file is html\n",
        "- Then parsed the response text by BeautifulSoup using html.parser"
      ],
      "metadata": {
        "id": "IRzQEeQdtuDu"
      }
    },
    {
      "cell_type": "code",
      "source": [
        "doc = get_topic_page()\n",
        "doc.find('a')"
      ],
      "metadata": {
        "colab": {
          "base_uri": "https://localhost:8080/"
        },
        "id": "8szUUVvKvBcF",
        "outputId": "861c1226-26b3-42a8-cf4d-1062ca24defb"
      },
      "execution_count": null,
      "outputs": [
        {
          "output_type": "execute_result",
          "data": {
            "text/plain": [
              "<a class=\"px-2 py-4 color-bg-accent-emphasis color-fg-on-emphasis show-on-focus js-skip-to-content\" href=\"#start-of-content\">Skip to content</a>"
            ]
          },
          "metadata": {},
          "execution_count": 249
        }
      ]
    },
    {
      "cell_type": "markdown",
      "source": [
        "## **Lets create some helper function to parse information from the page.**"
      ],
      "metadata": {
        "id": "VdvZJnlKv7-c"
      }
    },
    {
      "cell_type": "markdown",
      "source": [
        "##To get topic titles, we can pick p tags with the class ....![image.png](data:image/png;base64,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)\n",
        "\n",
        "\n"
      ],
      "metadata": {
        "id": "gkviNkKDx2lU"
      }
    },
    {
      "cell_type": "code",
      "source": [
        "def get_topic_titles(doc):\n",
        "\n",
        "  topic_class = 'f3 lh-condensed mb-0 mt-1 Link--primary'\n",
        "  topic_title_tags = doc.find_all('p', {'class': topic_class})\n",
        "  topic_titles = []\n",
        "  for tag in topic_title_tags:\n",
        "    topic_titles.append(tag.text)\n",
        "  return topic_titles"
      ],
      "metadata": {
        "id": "2RW8aCDZwU2Z"
      },
      "execution_count": null,
      "outputs": []
    },
    {
      "cell_type": "markdown",
      "source": [
        "***get_topic_titles*** can be used to get the list of titles"
      ],
      "metadata": {
        "id": "3VG4gw4uw7cp"
      }
    },
    {
      "cell_type": "code",
      "source": [
        "titles = get_topic_titles(doc)"
      ],
      "metadata": {
        "id": "h6Jz0-ZaxK4R"
      },
      "execution_count": null,
      "outputs": []
    },
    {
      "cell_type": "code",
      "source": [
        "titles[:5]"
      ],
      "metadata": {
        "colab": {
          "base_uri": "https://localhost:8080/"
        },
        "id": "VJ8y6TRxxQG8",
        "outputId": "560d7df2-1682-4495-a8f2-2f8b7900dcfc"
      },
      "execution_count": null,
      "outputs": [
        {
          "output_type": "execute_result",
          "data": {
            "text/plain": [
              "['3D', 'Ajax', 'Algorithm', 'Amp', 'Android']"
            ]
          },
          "metadata": {},
          "execution_count": 251
        }
      ]
    },
    {
      "cell_type": "markdown",
      "source": [
        "First 5 titles"
      ],
      "metadata": {
        "id": "zyQW274WxUPK"
      }
    },
    {
      "cell_type": "markdown",
      "source": [
        "###Similarly we have defined functions for description and URL"
      ],
      "metadata": {
        "id": "Q94TJcer4_3m"
      }
    },
    {
      "cell_type": "code",
      "source": [
        "\n",
        "\n",
        "def get_topic_desc(doc):\n",
        "    desc_class = 'f5 color-fg-muted mb-0 mt-1'\n",
        "    topic_desc_tags = doc.find_all('p', {'class': desc_class})\n",
        "    topic_desc = []\n",
        "    for tag in topic_desc_tags:\n",
        "       topic_desc.append(tag.text.strip())\n",
        "    return topic_desc\n",
        "\n",
        "\n",
        "def get_topic_urls(doc):\n",
        "    link_class = 'no-underline flex-1 d-flex flex-column'\n",
        "    link_title_tags = doc.find_all('a', {'class': link_class})\n",
        "    topic_urls = []\n",
        "    base_url = 'https://github.com'\n",
        "    for tag in link_title_tags:\n",
        "      topic_urls.append(base_url + tag['href'])\n",
        "    return topic_urls"
      ],
      "metadata": {
        "id": "RDBby6NMxROe"
      },
      "execution_count": null,
      "outputs": []
    },
    {
      "cell_type": "code",
      "source": [
        "desc = get_topic_desc(doc)\n",
        "url = get_topic_urls(doc)"
      ],
      "metadata": {
        "id": "WcHtrIq-xRK8"
      },
      "execution_count": null,
      "outputs": []
    },
    {
      "cell_type": "code",
      "source": [
        "desc[:3]"
      ],
      "metadata": {
        "colab": {
          "base_uri": "https://localhost:8080/"
        },
        "id": "SiUtuo3IxRCA",
        "outputId": "bd4df752-de5a-4df0-afa1-f8c3f4642380"
      },
      "execution_count": null,
      "outputs": [
        {
          "output_type": "execute_result",
          "data": {
            "text/plain": [
              "['3D refers to the use of three-dimensional graphics, modeling, and animation in various industries.',\n",
              " 'Ajax is a technique for creating interactive web applications.',\n",
              " 'Algorithms are self-contained sequences that carry out a variety of tasks.']"
            ]
          },
          "metadata": {},
          "execution_count": 256
        }
      ]
    },
    {
      "cell_type": "markdown",
      "source": [
        "Top 3 description"
      ],
      "metadata": {
        "id": "J2V-oqIr50fp"
      }
    },
    {
      "cell_type": "code",
      "source": [
        "url[:3]"
      ],
      "metadata": {
        "colab": {
          "base_uri": "https://localhost:8080/"
        },
        "id": "QWjDwLVuxQ-d",
        "outputId": "6258a38d-e392-4a51-c633-99e3e877d576"
      },
      "execution_count": null,
      "outputs": [
        {
          "output_type": "execute_result",
          "data": {
            "text/plain": [
              "['https://github.com/topics/3d',\n",
              " 'https://github.com/topics/ajax',\n",
              " 'https://github.com/topics/algorithm']"
            ]
          },
          "metadata": {},
          "execution_count": 257
        }
      ]
    },
    {
      "cell_type": "markdown",
      "source": [
        "Top 3 URL's"
      ],
      "metadata": {
        "id": "MarX3iYK54t2"
      }
    },
    {
      "cell_type": "markdown",
      "source": [
        "Let's put this all together"
      ],
      "metadata": {
        "id": "plsbF2Fy6O_q"
      }
    },
    {
      "cell_type": "code",
      "source": [
        "def scrape_topics():\n",
        "    topics_url = 'https://github.com/topics'\n",
        "    response = requests.get(topics_url)\n",
        "    if response.status_code != 200:\n",
        "       raise Exception('Failed to load page {}'.format(topic_url))\n",
        "    topics_dict = {\n",
        "        'title': get_topic_titles(doc),\n",
        "        'description': get_topic_desc(doc),\n",
        "        'url': get_topic_urls(doc)\n",
        "    }\n",
        "    return pd.DataFrame(topics_dict)"
      ],
      "metadata": {
        "id": "-C5ZAvrOxQ8G"
      },
      "execution_count": null,
      "outputs": []
    },
    {
      "cell_type": "code",
      "source": [],
      "metadata": {
        "id": "hRk-Fbu_6vAF"
      },
      "execution_count": null,
      "outputs": []
    },
    {
      "cell_type": "markdown",
      "source": [
        "## Putting it all together\n",
        "\n",
        "- we have a function to get the list of topics\n",
        "- We have a function to create a CSV file for scraped repos from a topic page\n",
        "- Let's create the function to put them together"
      ],
      "metadata": {
        "id": "O5uQDCUB_ASM"
      }
    },
    {
      "cell_type": "code",
      "source": [
        "def scrape_topics_repos():\n",
        "    print('Scraping list of topics')\n",
        "    topics_df = scrape_topics()\n",
        "\n",
        "    os.makedirs('data', exist_ok=True)\n",
        "\n",
        "    for index, row in topics_df.iterrows():\n",
        "        print('Scrapping top repositories for \"{}\"' .format(row['title']))\n",
        "        scrape_topic(row['url'], 'data/{}.csv'.format(row['title']))"
      ],
      "metadata": {
        "id": "NCjnAjOf6u8A"
      },
      "execution_count": null,
      "outputs": []
    },
    {
      "cell_type": "markdown",
      "source": [
        "We can check that the CSV's were created properly"
      ],
      "metadata": {
        "id": "6vxplkSeAAPX"
      }
    },
    {
      "cell_type": "code",
      "source": [],
      "metadata": {
        "id": "4xHvLtH96usn"
      },
      "execution_count": null,
      "outputs": []
    },
    {
      "cell_type": "markdown",
      "source": [
        "#Explore the detailed code step by step in the below Part :\n",
        "\n",
        "---\n",
        "\n"
      ],
      "metadata": {
        "id": "lyT5K8VzAJiV"
      }
    },
    {
      "cell_type": "code",
      "execution_count": null,
      "metadata": {
        "id": "ZyUGdS9hfpXg"
      },
      "outputs": [],
      "source": [
        "import requests"
      ]
    },
    {
      "cell_type": "code",
      "source": [
        "topic_url = 'https://github.com/topics'"
      ],
      "metadata": {
        "id": "E0l21mogzTVJ"
      },
      "execution_count": null,
      "outputs": []
    },
    {
      "cell_type": "code",
      "source": [
        "response = requests.get(topic_url)"
      ],
      "metadata": {
        "id": "ZQDJw4fuz1mm"
      },
      "execution_count": null,
      "outputs": []
    },
    {
      "cell_type": "code",
      "source": [
        "response.status_code"
      ],
      "metadata": {
        "colab": {
          "base_uri": "https://localhost:8080/"
        },
        "id": "MTYxx-jq0IIe",
        "outputId": "2e609054-048c-41c0-f317-dfdd5f99645a"
      },
      "execution_count": null,
      "outputs": [
        {
          "output_type": "execute_result",
          "data": {
            "text/plain": [
              "200"
            ]
          },
          "metadata": {},
          "execution_count": 238
        }
      ]
    },
    {
      "cell_type": "markdown",
      "source": [
        "Status Code 200 means **Successful**"
      ],
      "metadata": {
        "id": "pCOONyu00VOJ"
      }
    },
    {
      "cell_type": "code",
      "source": [
        "len(response.text)"
      ],
      "metadata": {
        "colab": {
          "base_uri": "https://localhost:8080/"
        },
        "id": "YFPPf-OQ0rfk",
        "outputId": "fdeb1c5c-2176-4f22-abd6-88320dbeb693"
      },
      "execution_count": null,
      "outputs": [
        {
          "output_type": "execute_result",
          "data": {
            "text/plain": [
              "186197"
            ]
          },
          "metadata": {},
          "execution_count": 147
        }
      ]
    },
    {
      "cell_type": "code",
      "source": [
        "page_contents = response.text"
      ],
      "metadata": {
        "id": "7AiNW2Y107Sp"
      },
      "execution_count": null,
      "outputs": []
    },
    {
      "cell_type": "code",
      "source": [
        "page_contents[:100]"
      ],
      "metadata": {
        "colab": {
          "base_uri": "https://localhost:8080/",
          "height": 36
        },
        "id": "E2XuKPz5OS3Y",
        "outputId": "e9479b95-7fa7-47ca-8b4c-d25706790b80"
      },
      "execution_count": null,
      "outputs": [
        {
          "output_type": "execute_result",
          "data": {
            "text/plain": [
              "'\\n\\n<!DOCTYPE html>\\n<html\\n  lang=\"en\"\\n  \\n  data-color-mode=\"auto\" data-light-theme=\"light\" data-dark-t'"
            ],
            "application/vnd.google.colaboratory.intrinsic+json": {
              "type": "string"
            }
          },
          "metadata": {},
          "execution_count": 149
        }
      ]
    },
    {
      "cell_type": "markdown",
      "source": [
        "This is some html text that is extracted"
      ],
      "metadata": {
        "id": "n8HzKGDeTUf4"
      }
    },
    {
      "cell_type": "code",
      "source": [
        "with open('webpage.html','w') as f:\n",
        "    f.write(page_contents)"
      ],
      "metadata": {
        "id": "T7HBjPxXSGBy"
      },
      "execution_count": null,
      "outputs": []
    },
    {
      "cell_type": "markdown",
      "source": [
        "The above code is used to download the copy of the webpage(html content) into a filee called page_contents"
      ],
      "metadata": {
        "id": "1IIRyC5ZTwqY"
      }
    },
    {
      "cell_type": "markdown",
      "source": [
        "## Now Beautiful Soup to parse and extract information"
      ],
      "metadata": {
        "id": "9232GVT6UA2T"
      }
    },
    {
      "cell_type": "code",
      "source": [
        "from bs4 import BeautifulSoup"
      ],
      "metadata": {
        "id": "VrkDxmcCTg1j"
      },
      "execution_count": null,
      "outputs": []
    },
    {
      "cell_type": "code",
      "source": [
        "doc = BeautifulSoup(page_contents, 'html.parser')"
      ],
      "metadata": {
        "id": "3tE-9fNZUcvz"
      },
      "execution_count": null,
      "outputs": []
    },
    {
      "cell_type": "markdown",
      "source": [
        "This way we get our parser Document .doc is a BeautifulSoup object that contained all the parsed html content."
      ],
      "metadata": {
        "id": "oUVHqhLsU0N3"
      }
    },
    {
      "cell_type": "code",
      "source": [
        "p_tags = doc.find_all('p')"
      ],
      "metadata": {
        "id": "F8im_72lVDt7"
      },
      "execution_count": null,
      "outputs": []
    },
    {
      "cell_type": "code",
      "source": [
        "len(p_tags)"
      ],
      "metadata": {
        "colab": {
          "base_uri": "https://localhost:8080/"
        },
        "id": "xNyV_HebVMIj",
        "outputId": "ca2f6063-7a7a-468b-a7cf-363f9b803cdb"
      },
      "execution_count": null,
      "outputs": [
        {
          "output_type": "execute_result",
          "data": {
            "text/plain": [
              "69"
            ]
          },
          "metadata": {},
          "execution_count": 154
        }
      ]
    },
    {
      "cell_type": "markdown",
      "source": [
        "Total P tags present in the parsed html text is 69"
      ],
      "metadata": {
        "id": "k_cUZdaMVhBw"
      }
    },
    {
      "cell_type": "code",
      "source": [
        "p_tags[0:4]"
      ],
      "metadata": {
        "colab": {
          "base_uri": "https://localhost:8080/"
        },
        "id": "tcHB7eV4VP4j",
        "outputId": "937aa8eb-c7a2-4eb0-9895-4b8e42d1e344"
      },
      "execution_count": null,
      "outputs": [
        {
          "output_type": "execute_result",
          "data": {
            "text/plain": [
              "[<p>We read every piece of feedback, and take your input very seriously.</p>,\n",
              " <p class=\"text-small color-fg-muted\">\n",
              "             To see all available qualifiers, see our <a class=\"Link--inTextBlock\" href=\"https://docs.github.com/search-github/github-code-search/understanding-github-code-search-syntax\">documentation</a>.\n",
              "           </p>,\n",
              " <p class=\"f4 color-fg-muted col-md-6 mx-auto\">Browse popular topics on GitHub.</p>,\n",
              " <p class=\"f3 lh-condensed text-center Link--primary mb-0 mt-1\">\n",
              "         PHP\n",
              "       </p>]"
            ]
          },
          "metadata": {},
          "execution_count": 155
        }
      ]
    },
    {
      "cell_type": "markdown",
      "source": [
        "This is the first 4 P tags present"
      ],
      "metadata": {
        "id": "48uyZ6rWWAqm"
      }
    },
    {
      "cell_type": "code",
      "source": [],
      "metadata": {
        "id": "tChRaiUIVqHj"
      },
      "execution_count": null,
      "outputs": []
    },
    {
      "cell_type": "markdown",
      "source": [
        "This is the class of the title tag found by inspecting the web page."
      ],
      "metadata": {
        "id": "h85h8GVHRgGW"
      }
    },
    {
      "cell_type": "code",
      "source": [
        "topic_class = 'f3 lh-condensed mb-0 mt-1 Link--primary'\n",
        "topic_title_tag = doc.find_all('p', {'class': topic_class})"
      ],
      "metadata": {
        "id": "hiOe5fZdnJei"
      },
      "execution_count": null,
      "outputs": []
    },
    {
      "cell_type": "code",
      "source": [
        "len(topic_title_tag)"
      ],
      "metadata": {
        "colab": {
          "base_uri": "https://localhost:8080/"
        },
        "id": "w-u4L3gLna46",
        "outputId": "fa84ca55-832b-4b6b-8229-0215eba86310"
      },
      "execution_count": null,
      "outputs": [
        {
          "output_type": "execute_result",
          "data": {
            "text/plain": [
              "30"
            ]
          },
          "metadata": {},
          "execution_count": 157
        }
      ]
    },
    {
      "cell_type": "code",
      "source": [
        "topic_title_tag[:4]"
      ],
      "metadata": {
        "colab": {
          "base_uri": "https://localhost:8080/"
        },
        "id": "oLe2aC8nn_jR",
        "outputId": "407e087d-3a3b-4c80-a134-c6baf9968c4e"
      },
      "execution_count": null,
      "outputs": [
        {
          "output_type": "execute_result",
          "data": {
            "text/plain": [
              "[<p class=\"f3 lh-condensed mb-0 mt-1 Link--primary\">3D</p>,\n",
              " <p class=\"f3 lh-condensed mb-0 mt-1 Link--primary\">Ajax</p>,\n",
              " <p class=\"f3 lh-condensed mb-0 mt-1 Link--primary\">Algorithm</p>,\n",
              " <p class=\"f3 lh-condensed mb-0 mt-1 Link--primary\">Amp</p>]"
            ]
          },
          "metadata": {},
          "execution_count": 158
        }
      ]
    },
    {
      "cell_type": "markdown",
      "source": [
        "First 4 topics p tags"
      ],
      "metadata": {
        "id": "avywjjvaRLDM"
      }
    },
    {
      "cell_type": "markdown",
      "source": [
        "### Now we will follow same steps for extracting Discription tags"
      ],
      "metadata": {
        "id": "GmavofqcRQe8"
      }
    },
    {
      "cell_type": "code",
      "source": [],
      "metadata": {
        "id": "WiKt3rAToEAR"
      },
      "execution_count": null,
      "outputs": []
    },
    {
      "cell_type": "code",
      "source": [
        "desc_class = 'f5 color-fg-muted mb-0 mt-1'\n",
        "desc_title_tag = doc.find_all('p', {'class': desc_class})"
      ],
      "metadata": {
        "id": "FvijipX6R-yj"
      },
      "execution_count": null,
      "outputs": []
    },
    {
      "cell_type": "code",
      "source": [
        "len(desc_title_tag)"
      ],
      "metadata": {
        "colab": {
          "base_uri": "https://localhost:8080/"
        },
        "id": "CJdjc8w6SEGS",
        "outputId": "82f775f2-73a9-4bb9-abe9-38c66521edfa"
      },
      "execution_count": null,
      "outputs": [
        {
          "output_type": "execute_result",
          "data": {
            "text/plain": [
              "30"
            ]
          },
          "metadata": {},
          "execution_count": 160
        }
      ]
    },
    {
      "cell_type": "code",
      "source": [
        "desc_title_tag[:4]"
      ],
      "metadata": {
        "colab": {
          "base_uri": "https://localhost:8080/"
        },
        "id": "gFyOwMK0SIrv",
        "outputId": "7cc8a93a-b84a-4c90-ec09-5c8fe17f10c2"
      },
      "execution_count": null,
      "outputs": [
        {
          "output_type": "execute_result",
          "data": {
            "text/plain": [
              "[<p class=\"f5 color-fg-muted mb-0 mt-1\">\n",
              "           3D refers to the use of three-dimensional graphics, modeling, and animation in various industries.\n",
              "         </p>,\n",
              " <p class=\"f5 color-fg-muted mb-0 mt-1\">\n",
              "           Ajax is a technique for creating interactive web applications.\n",
              "         </p>,\n",
              " <p class=\"f5 color-fg-muted mb-0 mt-1\">\n",
              "           Algorithms are self-contained sequences that carry out a variety of tasks.\n",
              "         </p>,\n",
              " <p class=\"f5 color-fg-muted mb-0 mt-1\">\n",
              "           Amp is a non-blocking concurrency library for PHP.\n",
              "         </p>]"
            ]
          },
          "metadata": {},
          "execution_count": 161
        }
      ]
    },
    {
      "cell_type": "markdown",
      "source": [
        "We got the top 5 description tags.\n",
        "\n"
      ],
      "metadata": {
        "id": "hdL-5vS-SNoC"
      }
    },
    {
      "cell_type": "markdown",
      "source": [
        "### We will now extract the topic page url link."
      ],
      "metadata": {
        "id": "0vv03y6EGJhi"
      }
    },
    {
      "cell_type": "code",
      "source": [],
      "metadata": {
        "id": "uNGfBQ7hSMcn"
      },
      "execution_count": null,
      "outputs": []
    },
    {
      "cell_type": "code",
      "source": [
        "link_class = 'no-underline flex-1 d-flex flex-column'\n",
        "link_title_tag = doc.find_all('a', {'class': link_class})"
      ],
      "metadata": {
        "id": "BZ3GzzMZHfZP"
      },
      "execution_count": null,
      "outputs": []
    },
    {
      "cell_type": "code",
      "source": [
        "len(link_title_tag)"
      ],
      "metadata": {
        "colab": {
          "base_uri": "https://localhost:8080/"
        },
        "id": "FKBDFmrHHzNp",
        "outputId": "bb0c01f4-b777-49d2-c29c-69044b67811a"
      },
      "execution_count": null,
      "outputs": [
        {
          "output_type": "execute_result",
          "data": {
            "text/plain": [
              "30"
            ]
          },
          "metadata": {},
          "execution_count": 163
        }
      ]
    },
    {
      "cell_type": "markdown",
      "source": [
        "Will give the list of top 30 titles of github"
      ],
      "metadata": {
        "id": "wJXE989LSlm-"
      }
    },
    {
      "cell_type": "code",
      "source": [
        "topic_titles =[]\n",
        "\n",
        "for tag in topic_title_tag:\n",
        "   topic_titles.append(tag.text)\n",
        "\n",
        "print(topic_titles)"
      ],
      "metadata": {
        "colab": {
          "base_uri": "https://localhost:8080/"
        },
        "id": "ZaUCPdlTQFXs",
        "outputId": "471e1623-a86b-401b-cc7e-c237cd9f1b0b"
      },
      "execution_count": null,
      "outputs": [
        {
          "output_type": "stream",
          "name": "stdout",
          "text": [
            "['3D', 'Ajax', 'Algorithm', 'Amp', 'Android', 'Angular', 'Ansible', 'API', 'Arduino', 'ASP.NET', 'Atom', 'Awesome Lists', 'Amazon Web Services', 'Azure', 'Babel', 'Bash', 'Bitcoin', 'Bootstrap', 'Bot', 'C', 'Chrome', 'Chrome extension', 'Command line interface', 'Clojure', 'Code quality', 'Code review', 'Compiler', 'Continuous integration', 'COVID-19', 'C++']\n"
          ]
        }
      ]
    },
    {
      "cell_type": "markdown",
      "source": [
        "*   Below code Will give the list of top 30 titles's discription\n",
        "of github.\n",
        "*   strip() -> To remove any extra space.\n",
        "\n",
        "\n",
        "\n"
      ],
      "metadata": {
        "id": "pUJCLa9pSqz-"
      }
    },
    {
      "cell_type": "code",
      "source": [
        "topic_desc =[]\n",
        "\n",
        "for tag in desc_title_tag:\n",
        "   topic_desc.append(tag.text.strip())\n",
        "\n",
        "print(topic_desc[:2])"
      ],
      "metadata": {
        "colab": {
          "base_uri": "https://localhost:8080/"
        },
        "id": "tEImjUBURs0e",
        "outputId": "594c44c5-dc52-46bc-f3e3-95c64ee7e9fa"
      },
      "execution_count": null,
      "outputs": [
        {
          "output_type": "stream",
          "name": "stdout",
          "text": [
            "['3D refers to the use of three-dimensional graphics, modeling, and animation in various industries.', 'Ajax is a technique for creating interactive web applications.']\n"
          ]
        }
      ]
    },
    {
      "cell_type": "markdown",
      "source": [
        "*   Below code will give the list of top 30 titles's link of github."
      ],
      "metadata": {
        "id": "WXYK_GULUVLQ"
      }
    },
    {
      "cell_type": "code",
      "source": [
        "topic_url = []\n",
        "base_url = 'https://github.com'\n",
        "\n",
        "for tag in link_title_tag:\n",
        "  topic_url.append(base_url + tag['href'])\n",
        "\n",
        "print(topic_url)"
      ],
      "metadata": {
        "colab": {
          "base_uri": "https://localhost:8080/"
        },
        "id": "IlkdrhF9TQ5K",
        "outputId": "e669f7c0-a626-4e04-b14d-b78d8c9daee8"
      },
      "execution_count": null,
      "outputs": [
        {
          "output_type": "stream",
          "name": "stdout",
          "text": [
            "['https://github.com/topics/3d', 'https://github.com/topics/ajax', 'https://github.com/topics/algorithm', 'https://github.com/topics/amphp', 'https://github.com/topics/android', 'https://github.com/topics/angular', 'https://github.com/topics/ansible', 'https://github.com/topics/api', 'https://github.com/topics/arduino', 'https://github.com/topics/aspnet', 'https://github.com/topics/atom', 'https://github.com/topics/awesome', 'https://github.com/topics/aws', 'https://github.com/topics/azure', 'https://github.com/topics/babel', 'https://github.com/topics/bash', 'https://github.com/topics/bitcoin', 'https://github.com/topics/bootstrap', 'https://github.com/topics/bot', 'https://github.com/topics/c', 'https://github.com/topics/chrome', 'https://github.com/topics/chrome-extension', 'https://github.com/topics/cli', 'https://github.com/topics/clojure', 'https://github.com/topics/code-quality', 'https://github.com/topics/code-review', 'https://github.com/topics/compiler', 'https://github.com/topics/continuous-integration', 'https://github.com/topics/covid-19', 'https://github.com/topics/cpp']\n"
          ]
        }
      ]
    },
    {
      "cell_type": "markdown",
      "source": [
        "\n",
        "*  To convert all extracted info(topic name, desc and url's) into cse file we use pandas data frame.\n",
        "\n",
        "*   Now we will make dictionary of all items and pass it into pandas data frame.\n",
        "\n"
      ],
      "metadata": {
        "id": "ZGHcvZTDWCdF"
      }
    },
    {
      "cell_type": "code",
      "source": [
        "topic_dict = {'title' : topic_titles, 'description' : topic_desc , 'link' : topic_url}"
      ],
      "metadata": {
        "id": "RymHDwOEVDqu"
      },
      "execution_count": null,
      "outputs": []
    },
    {
      "cell_type": "code",
      "source": [
        "import pandas as pd\n",
        "\n",
        "topic_df = pd.DataFrame(topic_dict)"
      ],
      "metadata": {
        "id": "KuxGpFiZXDlv"
      },
      "execution_count": null,
      "outputs": []
    },
    {
      "cell_type": "code",
      "source": [
        "topic_df[:5]"
      ],
      "metadata": {
        "colab": {
          "base_uri": "https://localhost:8080/",
          "height": 206
        },
        "id": "HstxlpYfXOnn",
        "outputId": "b436afd6-b554-44b2-cf19-e8d29d0b46eb"
      },
      "execution_count": null,
      "outputs": [
        {
          "output_type": "execute_result",
          "data": {
            "text/plain": [
              "       title                                        description  \\\n",
              "0         3D  3D refers to the use of three-dimensional grap...   \n",
              "1       Ajax  Ajax is a technique for creating interactive w...   \n",
              "2  Algorithm  Algorithms are self-contained sequences that c...   \n",
              "3        Amp  Amp is a non-blocking concurrency library for ...   \n",
              "4    Android  Android is an operating system built by Google...   \n",
              "\n",
              "                                  link  \n",
              "0         https://github.com/topics/3d  \n",
              "1       https://github.com/topics/ajax  \n",
              "2  https://github.com/topics/algorithm  \n",
              "3      https://github.com/topics/amphp  \n",
              "4    https://github.com/topics/android  "
            ],
            "text/html": [
              "\n",
              "  <div id=\"df-2e0941ed-cca9-4459-b4bf-1f1bf4433004\" class=\"colab-df-container\">\n",
              "    <div>\n",
              "<style scoped>\n",
              "    .dataframe tbody tr th:only-of-type {\n",
              "        vertical-align: middle;\n",
              "    }\n",
              "\n",
              "    .dataframe tbody tr th {\n",
              "        vertical-align: top;\n",
              "    }\n",
              "\n",
              "    .dataframe thead th {\n",
              "        text-align: right;\n",
              "    }\n",
              "</style>\n",
              "<table border=\"1\" class=\"dataframe\">\n",
              "  <thead>\n",
              "    <tr style=\"text-align: right;\">\n",
              "      <th></th>\n",
              "      <th>title</th>\n",
              "      <th>description</th>\n",
              "      <th>link</th>\n",
              "    </tr>\n",
              "  </thead>\n",
              "  <tbody>\n",
              "    <tr>\n",
              "      <th>0</th>\n",
              "      <td>3D</td>\n",
              "      <td>3D refers to the use of three-dimensional grap...</td>\n",
              "      <td>https://github.com/topics/3d</td>\n",
              "    </tr>\n",
              "    <tr>\n",
              "      <th>1</th>\n",
              "      <td>Ajax</td>\n",
              "      <td>Ajax is a technique for creating interactive w...</td>\n",
              "      <td>https://github.com/topics/ajax</td>\n",
              "    </tr>\n",
              "    <tr>\n",
              "      <th>2</th>\n",
              "      <td>Algorithm</td>\n",
              "      <td>Algorithms are self-contained sequences that c...</td>\n",
              "      <td>https://github.com/topics/algorithm</td>\n",
              "    </tr>\n",
              "    <tr>\n",
              "      <th>3</th>\n",
              "      <td>Amp</td>\n",
              "      <td>Amp is a non-blocking concurrency library for ...</td>\n",
              "      <td>https://github.com/topics/amphp</td>\n",
              "    </tr>\n",
              "    <tr>\n",
              "      <th>4</th>\n",
              "      <td>Android</td>\n",
              "      <td>Android is an operating system built by Google...</td>\n",
              "      <td>https://github.com/topics/android</td>\n",
              "    </tr>\n",
              "  </tbody>\n",
              "</table>\n",
              "</div>\n",
              "    <div class=\"colab-df-buttons\">\n",
              "\n",
              "  <div class=\"colab-df-container\">\n",
              "    <button class=\"colab-df-convert\" onclick=\"convertToInteractive('df-2e0941ed-cca9-4459-b4bf-1f1bf4433004')\"\n",
              "            title=\"Convert this dataframe to an interactive table.\"\n",
              "            style=\"display:none;\">\n",
              "\n",
              "  <svg xmlns=\"http://www.w3.org/2000/svg\" height=\"24px\" viewBox=\"0 -960 960 960\">\n",
              "    <path d=\"M120-120v-720h720v720H120Zm60-500h600v-160H180v160Zm220 220h160v-160H400v160Zm0 220h160v-160H400v160ZM180-400h160v-160H180v160Zm440 0h160v-160H620v160ZM180-180h160v-160H180v160Zm440 0h160v-160H620v160Z\"/>\n",
              "  </svg>\n",
              "    </button>\n",
              "\n",
              "  <style>\n",
              "    .colab-df-container {\n",
              "      display:flex;\n",
              "      gap: 12px;\n",
              "    }\n",
              "\n",
              "    .colab-df-convert {\n",
              "      background-color: #E8F0FE;\n",
              "      border: none;\n",
              "      border-radius: 50%;\n",
              "      cursor: pointer;\n",
              "      display: none;\n",
              "      fill: #1967D2;\n",
              "      height: 32px;\n",
              "      padding: 0 0 0 0;\n",
              "      width: 32px;\n",
              "    }\n",
              "\n",
              "    .colab-df-convert:hover {\n",
              "      background-color: #E2EBFA;\n",
              "      box-shadow: 0px 1px 2px rgba(60, 64, 67, 0.3), 0px 1px 3px 1px rgba(60, 64, 67, 0.15);\n",
              "      fill: #174EA6;\n",
              "    }\n",
              "\n",
              "    .colab-df-buttons div {\n",
              "      margin-bottom: 4px;\n",
              "    }\n",
              "\n",
              "    [theme=dark] .colab-df-convert {\n",
              "      background-color: #3B4455;\n",
              "      fill: #D2E3FC;\n",
              "    }\n",
              "\n",
              "    [theme=dark] .colab-df-convert:hover {\n",
              "      background-color: #434B5C;\n",
              "      box-shadow: 0px 1px 3px 1px rgba(0, 0, 0, 0.15);\n",
              "      filter: drop-shadow(0px 1px 2px rgba(0, 0, 0, 0.3));\n",
              "      fill: #FFFFFF;\n",
              "    }\n",
              "  </style>\n",
              "\n",
              "    <script>\n",
              "      const buttonEl =\n",
              "        document.querySelector('#df-2e0941ed-cca9-4459-b4bf-1f1bf4433004 button.colab-df-convert');\n",
              "      buttonEl.style.display =\n",
              "        google.colab.kernel.accessAllowed ? 'block' : 'none';\n",
              "\n",
              "      async function convertToInteractive(key) {\n",
              "        const element = document.querySelector('#df-2e0941ed-cca9-4459-b4bf-1f1bf4433004');\n",
              "        const dataTable =\n",
              "          await google.colab.kernel.invokeFunction('convertToInteractive',\n",
              "                                                    [key], {});\n",
              "        if (!dataTable) return;\n",
              "\n",
              "        const docLinkHtml = 'Like what you see? Visit the ' +\n",
              "          '<a target=\"_blank\" href=https://colab.research.google.com/notebooks/data_table.ipynb>data table notebook</a>'\n",
              "          + ' to learn more about interactive tables.';\n",
              "        element.innerHTML = '';\n",
              "        dataTable['output_type'] = 'display_data';\n",
              "        await google.colab.output.renderOutput(dataTable, element);\n",
              "        const docLink = document.createElement('div');\n",
              "        docLink.innerHTML = docLinkHtml;\n",
              "        element.appendChild(docLink);\n",
              "      }\n",
              "    </script>\n",
              "  </div>\n",
              "\n",
              "\n",
              "<div id=\"df-f86cfa01-7dc1-48af-a999-0f152a4398ee\">\n",
              "  <button class=\"colab-df-quickchart\" onclick=\"quickchart('df-f86cfa01-7dc1-48af-a999-0f152a4398ee')\"\n",
              "            title=\"Suggest charts\"\n",
              "            style=\"display:none;\">\n",
              "\n",
              "<svg xmlns=\"http://www.w3.org/2000/svg\" height=\"24px\"viewBox=\"0 0 24 24\"\n",
              "     width=\"24px\">\n",
              "    <g>\n",
              "        <path d=\"M19 3H5c-1.1 0-2 .9-2 2v14c0 1.1.9 2 2 2h14c1.1 0 2-.9 2-2V5c0-1.1-.9-2-2-2zM9 17H7v-7h2v7zm4 0h-2V7h2v10zm4 0h-2v-4h2v4z\"/>\n",
              "    </g>\n",
              "</svg>\n",
              "  </button>\n",
              "\n",
              "<style>\n",
              "  .colab-df-quickchart {\n",
              "      --bg-color: #E8F0FE;\n",
              "      --fill-color: #1967D2;\n",
              "      --hover-bg-color: #E2EBFA;\n",
              "      --hover-fill-color: #174EA6;\n",
              "      --disabled-fill-color: #AAA;\n",
              "      --disabled-bg-color: #DDD;\n",
              "  }\n",
              "\n",
              "  [theme=dark] .colab-df-quickchart {\n",
              "      --bg-color: #3B4455;\n",
              "      --fill-color: #D2E3FC;\n",
              "      --hover-bg-color: #434B5C;\n",
              "      --hover-fill-color: #FFFFFF;\n",
              "      --disabled-bg-color: #3B4455;\n",
              "      --disabled-fill-color: #666;\n",
              "  }\n",
              "\n",
              "  .colab-df-quickchart {\n",
              "    background-color: var(--bg-color);\n",
              "    border: none;\n",
              "    border-radius: 50%;\n",
              "    cursor: pointer;\n",
              "    display: none;\n",
              "    fill: var(--fill-color);\n",
              "    height: 32px;\n",
              "    padding: 0;\n",
              "    width: 32px;\n",
              "  }\n",
              "\n",
              "  .colab-df-quickchart:hover {\n",
              "    background-color: var(--hover-bg-color);\n",
              "    box-shadow: 0 1px 2px rgba(60, 64, 67, 0.3), 0 1px 3px 1px rgba(60, 64, 67, 0.15);\n",
              "    fill: var(--button-hover-fill-color);\n",
              "  }\n",
              "\n",
              "  .colab-df-quickchart-complete:disabled,\n",
              "  .colab-df-quickchart-complete:disabled:hover {\n",
              "    background-color: var(--disabled-bg-color);\n",
              "    fill: var(--disabled-fill-color);\n",
              "    box-shadow: none;\n",
              "  }\n",
              "\n",
              "  .colab-df-spinner {\n",
              "    border: 2px solid var(--fill-color);\n",
              "    border-color: transparent;\n",
              "    border-bottom-color: var(--fill-color);\n",
              "    animation:\n",
              "      spin 1s steps(1) infinite;\n",
              "  }\n",
              "\n",
              "  @keyframes spin {\n",
              "    0% {\n",
              "      border-color: transparent;\n",
              "      border-bottom-color: var(--fill-color);\n",
              "      border-left-color: var(--fill-color);\n",
              "    }\n",
              "    20% {\n",
              "      border-color: transparent;\n",
              "      border-left-color: var(--fill-color);\n",
              "      border-top-color: var(--fill-color);\n",
              "    }\n",
              "    30% {\n",
              "      border-color: transparent;\n",
              "      border-left-color: var(--fill-color);\n",
              "      border-top-color: var(--fill-color);\n",
              "      border-right-color: var(--fill-color);\n",
              "    }\n",
              "    40% {\n",
              "      border-color: transparent;\n",
              "      border-right-color: var(--fill-color);\n",
              "      border-top-color: var(--fill-color);\n",
              "    }\n",
              "    60% {\n",
              "      border-color: transparent;\n",
              "      border-right-color: var(--fill-color);\n",
              "    }\n",
              "    80% {\n",
              "      border-color: transparent;\n",
              "      border-right-color: var(--fill-color);\n",
              "      border-bottom-color: var(--fill-color);\n",
              "    }\n",
              "    90% {\n",
              "      border-color: transparent;\n",
              "      border-bottom-color: var(--fill-color);\n",
              "    }\n",
              "  }\n",
              "</style>\n",
              "\n",
              "  <script>\n",
              "    async function quickchart(key) {\n",
              "      const quickchartButtonEl =\n",
              "        document.querySelector('#' + key + ' button');\n",
              "      quickchartButtonEl.disabled = true;  // To prevent multiple clicks.\n",
              "      quickchartButtonEl.classList.add('colab-df-spinner');\n",
              "      try {\n",
              "        const charts = await google.colab.kernel.invokeFunction(\n",
              "            'suggestCharts', [key], {});\n",
              "      } catch (error) {\n",
              "        console.error('Error during call to suggestCharts:', error);\n",
              "      }\n",
              "      quickchartButtonEl.classList.remove('colab-df-spinner');\n",
              "      quickchartButtonEl.classList.add('colab-df-quickchart-complete');\n",
              "    }\n",
              "    (() => {\n",
              "      let quickchartButtonEl =\n",
              "        document.querySelector('#df-f86cfa01-7dc1-48af-a999-0f152a4398ee button');\n",
              "      quickchartButtonEl.style.display =\n",
              "        google.colab.kernel.accessAllowed ? 'block' : 'none';\n",
              "    })();\n",
              "  </script>\n",
              "</div>\n",
              "\n",
              "    </div>\n",
              "  </div>\n"
            ],
            "application/vnd.google.colaboratory.intrinsic+json": {
              "type": "dataframe",
              "summary": "{\n  \"name\": \"topic_df[:5]\",\n  \"rows\": 5,\n  \"fields\": [\n    {\n      \"column\": \"title\",\n      \"properties\": {\n        \"dtype\": \"string\",\n        \"num_unique_values\": 5,\n        \"samples\": [\n          \"Ajax\",\n          \"Android\",\n          \"Algorithm\"\n        ],\n        \"semantic_type\": \"\",\n        \"description\": \"\"\n      }\n    },\n    {\n      \"column\": \"description\",\n      \"properties\": {\n        \"dtype\": \"string\",\n        \"num_unique_values\": 5,\n        \"samples\": [\n          \"Ajax is a technique for creating interactive web applications.\",\n          \"Android is an operating system built by Google designed for mobile devices.\",\n          \"Algorithms are self-contained sequences that carry out a variety of tasks.\"\n        ],\n        \"semantic_type\": \"\",\n        \"description\": \"\"\n      }\n    },\n    {\n      \"column\": \"link\",\n      \"properties\": {\n        \"dtype\": \"string\",\n        \"num_unique_values\": 5,\n        \"samples\": [\n          \"https://github.com/topics/ajax\",\n          \"https://github.com/topics/android\",\n          \"https://github.com/topics/algorithm\"\n        ],\n        \"semantic_type\": \"\",\n        \"description\": \"\"\n      }\n    }\n  ]\n}"
            }
          },
          "metadata": {},
          "execution_count": 169
        }
      ]
    },
    {
      "cell_type": "markdown",
      "source": [
        "### To create CSV(s) file out of extracted info"
      ],
      "metadata": {
        "id": "Gi81xq6NaR9x"
      }
    },
    {
      "cell_type": "code",
      "source": [
        "topic_df.to_csv('topics.csv', index = None)"
      ],
      "metadata": {
        "id": "HJOUW_TCXyuV"
      },
      "execution_count": null,
      "outputs": []
    },
    {
      "cell_type": "markdown",
      "source": [
        "## Getting information out of a topic page"
      ],
      "metadata": {
        "id": "pV5m_sAgbTX7"
      }
    },
    {
      "cell_type": "code",
      "source": [
        "topic_page_url = topic_url[0]"
      ],
      "metadata": {
        "id": "G_PesyYWajxx"
      },
      "execution_count": null,
      "outputs": []
    },
    {
      "cell_type": "code",
      "source": [
        "topic_page_url"
      ],
      "metadata": {
        "colab": {
          "base_uri": "https://localhost:8080/",
          "height": 36
        },
        "id": "o7mPi6A_Uhrq",
        "outputId": "82002566-47db-4cbb-94c4-abd66d566c9b"
      },
      "execution_count": null,
      "outputs": [
        {
          "output_type": "execute_result",
          "data": {
            "text/plain": [
              "'https://github.com/topics/3d'"
            ],
            "application/vnd.google.colaboratory.intrinsic+json": {
              "type": "string"
            }
          },
          "metadata": {},
          "execution_count": 172
        }
      ]
    },
    {
      "cell_type": "code",
      "source": [
        "response = requests.get(topic_page_url)"
      ],
      "metadata": {
        "id": "kAUMo4fyUpwd"
      },
      "execution_count": null,
      "outputs": []
    },
    {
      "cell_type": "code",
      "source": [
        "response.status_code"
      ],
      "metadata": {
        "colab": {
          "base_uri": "https://localhost:8080/"
        },
        "id": "eTN_sJIjU12u",
        "outputId": "94894e17-1a81-41d4-909c-fa119caebb87"
      },
      "execution_count": null,
      "outputs": [
        {
          "output_type": "execute_result",
          "data": {
            "text/plain": [
              "200"
            ]
          },
          "metadata": {},
          "execution_count": 174
        }
      ]
    },
    {
      "cell_type": "code",
      "source": [
        "topic_doc = BeautifulSoup(response.text, 'html.parser')"
      ],
      "metadata": {
        "id": "ytuLoM19U4cX"
      },
      "execution_count": null,
      "outputs": []
    },
    {
      "cell_type": "code",
      "source": [
        "h3_selection_class = 'f3 color-fg-muted text-normal lh-condensed'\n",
        "repo_tags = topic_doc.find_all('h3', {'class': h3_selection_class})"
      ],
      "metadata": {
        "id": "umzNxU5PVU1B"
      },
      "execution_count": null,
      "outputs": []
    },
    {
      "cell_type": "markdown",
      "source": [
        "Repo tags contains the tags that contains user name and repo name"
      ],
      "metadata": {
        "id": "7WLvS-YQ65zI"
      }
    },
    {
      "cell_type": "code",
      "source": [
        "a_tags = repo_tags[0].find_all('a')"
      ],
      "metadata": {
        "id": "MItSHVQr6Q53"
      },
      "execution_count": null,
      "outputs": []
    },
    {
      "cell_type": "markdown",
      "source": [
        "First tag contain user name second conatains repo name"
      ],
      "metadata": {
        "id": "x78ZgY7a7Gk_"
      }
    },
    {
      "cell_type": "code",
      "source": [
        "a_tags[0].text.strip()"
      ],
      "metadata": {
        "colab": {
          "base_uri": "https://localhost:8080/",
          "height": 36
        },
        "id": "EHXeH9h06XTq",
        "outputId": "77e1df80-cf2c-4c69-b37d-6549ab37ee9d"
      },
      "execution_count": null,
      "outputs": [
        {
          "output_type": "execute_result",
          "data": {
            "text/plain": [
              "'mrdoob'"
            ],
            "application/vnd.google.colaboratory.intrinsic+json": {
              "type": "string"
            }
          },
          "metadata": {},
          "execution_count": 178
        }
      ]
    },
    {
      "cell_type": "markdown",
      "source": [
        "user name"
      ],
      "metadata": {
        "id": "v26hDyua7u-p"
      }
    },
    {
      "cell_type": "code",
      "source": [
        "a_tags[1].text.strip()"
      ],
      "metadata": {
        "colab": {
          "base_uri": "https://localhost:8080/",
          "height": 36
        },
        "id": "SWVukJ4j6t09",
        "outputId": "a2eec00c-50b2-4437-b9be-785246c485f6"
      },
      "execution_count": null,
      "outputs": [
        {
          "output_type": "execute_result",
          "data": {
            "text/plain": [
              "'three.js'"
            ],
            "application/vnd.google.colaboratory.intrinsic+json": {
              "type": "string"
            }
          },
          "metadata": {},
          "execution_count": 179
        }
      ]
    },
    {
      "cell_type": "markdown",
      "source": [
        "Repo name"
      ],
      "metadata": {
        "id": "1eCqYG6_7xu3"
      }
    },
    {
      "cell_type": "code",
      "source": [
        "base_url = 'https://github.com'\n",
        "repo_url = base_url + a_tags[1]['href']\n",
        "print(repo_url)"
      ],
      "metadata": {
        "colab": {
          "base_uri": "https://localhost:8080/"
        },
        "id": "s4j2fjPJ70eX",
        "outputId": "0f6ed151-0782-4ec1-c0a3-cad7851c5c88"
      },
      "execution_count": null,
      "outputs": [
        {
          "output_type": "stream",
          "name": "stdout",
          "text": [
            "https://github.com/mrdoob/three.js\n"
          ]
        }
      ]
    },
    {
      "cell_type": "markdown",
      "source": [
        "Repo url of user"
      ],
      "metadata": {
        "id": "oLJpKFCj8Z2v"
      }
    },
    {
      "cell_type": "markdown",
      "source": [
        "Now we have to find the number of stars :"
      ],
      "metadata": {
        "id": "LNwJCdS3815k"
      }
    },
    {
      "cell_type": "code",
      "source": [
        "star_class = 'Counter js-social-count'\n",
        "star_tags = topic_doc.find_all('span', {'class': star_class})"
      ],
      "metadata": {
        "id": "iVgqWwLS7sNF"
      },
      "execution_count": null,
      "outputs": []
    },
    {
      "cell_type": "code",
      "source": [
        "len(star_tags)"
      ],
      "metadata": {
        "colab": {
          "base_uri": "https://localhost:8080/"
        },
        "id": "H0m_jkRI9tSr",
        "outputId": "fca3eede-41c7-436a-a694-49d8f671d1b3"
      },
      "execution_count": null,
      "outputs": [
        {
          "output_type": "execute_result",
          "data": {
            "text/plain": [
              "20"
            ]
          },
          "metadata": {},
          "execution_count": 182
        }
      ]
    },
    {
      "cell_type": "code",
      "source": [
        "star_tags[0].text"
      ],
      "metadata": {
        "colab": {
          "base_uri": "https://localhost:8080/",
          "height": 36
        },
        "id": "QV6_I8Jj9v4w",
        "outputId": "595f0372-502d-418d-beb7-1d7bb844ac5c"
      },
      "execution_count": null,
      "outputs": [
        {
          "output_type": "execute_result",
          "data": {
            "text/plain": [
              "'97.8k'"
            ],
            "application/vnd.google.colaboratory.intrinsic+json": {
              "type": "string"
            }
          },
          "metadata": {},
          "execution_count": 183
        }
      ]
    },
    {
      "cell_type": "code",
      "source": [
        "def parse_star_count(star_str):\n",
        "    if star_str[-1] == 'k':\n",
        "       return int(float(star_str[:-1]) * 1000)\n",
        "    else:\n",
        "       return int(star_str)"
      ],
      "metadata": {
        "id": "rqOrm4Ik-Cc5"
      },
      "execution_count": null,
      "outputs": []
    },
    {
      "cell_type": "code",
      "source": [
        "parse_star_count(star_tags[0].text)"
      ],
      "metadata": {
        "colab": {
          "base_uri": "https://localhost:8080/"
        },
        "id": "6tvHlke2AZf2",
        "outputId": "c73b3f2b-f447-4c78-8d8d-da91496c683a"
      },
      "execution_count": null,
      "outputs": [
        {
          "output_type": "execute_result",
          "data": {
            "text/plain": [
              "97800"
            ]
          },
          "metadata": {},
          "execution_count": 185
        }
      ]
    },
    {
      "cell_type": "code",
      "source": [
        "def get_repo_info(h3_tag, star_tag):\n",
        "   # return all the required info about a repository\n",
        "   a_tags = h3_tag.find_all('a')\n",
        "   user_name = a_tags[0].text.strip()\n",
        "   repo_name = a_tags[1].text.strip()\n",
        "   repo_url = base_url + a_tags[1]['href']\n",
        "   stars = parse_star_count(star_tag.text)\n",
        "   return user_name, repo_name, repo_url, stars"
      ],
      "metadata": {
        "id": "FkOpajgOAmie"
      },
      "execution_count": null,
      "outputs": []
    },
    {
      "cell_type": "code",
      "source": [
        "get_repo_info(repo_tags[0], star_tags[0])"
      ],
      "metadata": {
        "colab": {
          "base_uri": "https://localhost:8080/"
        },
        "id": "6DzE0eAzHVRb",
        "outputId": "3a23aa66-d803-457a-9757-862de2f9e45a"
      },
      "execution_count": null,
      "outputs": [
        {
          "output_type": "execute_result",
          "data": {
            "text/plain": [
              "('mrdoob', 'three.js', 'https://github.com/mrdoob/three.js', 97800)"
            ]
          },
          "metadata": {},
          "execution_count": 187
        }
      ]
    },
    {
      "cell_type": "code",
      "source": [
        "topic_repo_dict = {\n",
        "    'username' : [],\n",
        "    'repo_name' : [],\n",
        "    'stars' : [],\n",
        "    'repo_url' : []\n",
        "}\n",
        "\n",
        "\n",
        "for i in range(len(repo_tags)):\n",
        "  repo_info = get_repo_info(repo_tags[i], star_tags[i])\n",
        "  topic_repo_dict['username'].append(repo_info[0])\n",
        "  topic_repo_dict['repo_name'].append(repo_info[1])\n",
        "  topic_repo_dict['repo_url'].append(repo_info[2])\n",
        "  topic_repo_dict['stars'].append(repo_info[3])\n"
      ],
      "metadata": {
        "id": "RXRwgp4ZHdCg"
      },
      "execution_count": null,
      "outputs": []
    },
    {
      "cell_type": "code",
      "source": [
        "topic_repo_dict"
      ],
      "metadata": {
        "colab": {
          "base_uri": "https://localhost:8080/"
        },
        "id": "7NT1j6_KLpNk",
        "outputId": "a6465d2b-1639-49ab-cbe5-1b88c958ec8f"
      },
      "execution_count": null,
      "outputs": [
        {
          "output_type": "execute_result",
          "data": {
            "text/plain": [
              "{'username': ['mrdoob',\n",
              "  'pmndrs',\n",
              "  'libgdx',\n",
              "  'BabylonJS',\n",
              "  'ssloy',\n",
              "  'FreeCAD',\n",
              "  'lettier',\n",
              "  'aframevr',\n",
              "  'CesiumGS',\n",
              "  'blender',\n",
              "  'MonoGame',\n",
              "  'isl-org',\n",
              "  'metafizzy',\n",
              "  'timzhang642',\n",
              "  'nerfstudio-project',\n",
              "  'a1studmuffin',\n",
              "  'domlysz',\n",
              "  'FyroxEngine',\n",
              "  'google',\n",
              "  'openscad'],\n",
              " 'repo_name': ['three.js',\n",
              "  'react-three-fiber',\n",
              "  'libgdx',\n",
              "  'Babylon.js',\n",
              "  'tinyrenderer',\n",
              "  'FreeCAD',\n",
              "  '3d-game-shaders-for-beginners',\n",
              "  'aframe',\n",
              "  'cesium',\n",
              "  'blender',\n",
              "  'MonoGame',\n",
              "  'Open3D',\n",
              "  'zdog',\n",
              "  '3D-Machine-Learning',\n",
              "  'nerfstudio',\n",
              "  'SpaceshipGenerator',\n",
              "  'BlenderGIS',\n",
              "  'Fyrox',\n",
              "  'model-viewer',\n",
              "  'openscad'],\n",
              " 'stars': [97800,\n",
              "  25400,\n",
              "  22500,\n",
              "  22100,\n",
              "  19000,\n",
              "  17000,\n",
              "  16800,\n",
              "  16100,\n",
              "  11600,\n",
              "  11000,\n",
              "  10600,\n",
              "  10200,\n",
              "  10200,\n",
              "  9400,\n",
              "  8100,\n",
              "  7600,\n",
              "  7100,\n",
              "  7000,\n",
              "  6400,\n",
              "  6300],\n",
              " 'repo_url': ['https://github.com/mrdoob/three.js',\n",
              "  'https://github.com/pmndrs/react-three-fiber',\n",
              "  'https://github.com/libgdx/libgdx',\n",
              "  'https://github.com/BabylonJS/Babylon.js',\n",
              "  'https://github.com/ssloy/tinyrenderer',\n",
              "  'https://github.com/FreeCAD/FreeCAD',\n",
              "  'https://github.com/lettier/3d-game-shaders-for-beginners',\n",
              "  'https://github.com/aframevr/aframe',\n",
              "  'https://github.com/CesiumGS/cesium',\n",
              "  'https://github.com/blender/blender',\n",
              "  'https://github.com/MonoGame/MonoGame',\n",
              "  'https://github.com/isl-org/Open3D',\n",
              "  'https://github.com/metafizzy/zdog',\n",
              "  'https://github.com/timzhang642/3D-Machine-Learning',\n",
              "  'https://github.com/nerfstudio-project/nerfstudio',\n",
              "  'https://github.com/a1studmuffin/SpaceshipGenerator',\n",
              "  'https://github.com/domlysz/BlenderGIS',\n",
              "  'https://github.com/FyroxEngine/Fyrox',\n",
              "  'https://github.com/google/model-viewer',\n",
              "  'https://github.com/openscad/openscad']}"
            ]
          },
          "metadata": {},
          "execution_count": 189
        }
      ]
    },
    {
      "cell_type": "code",
      "source": [
        "topic_repo_df = pd.DataFrame(topic_repo_dict)"
      ],
      "metadata": {
        "id": "nSDwZWfALuBx"
      },
      "execution_count": null,
      "outputs": []
    },
    {
      "cell_type": "markdown",
      "source": [
        "This is the 30 Top repository for the Topic = \"3D\""
      ],
      "metadata": {
        "id": "tKo_dFHuME8N"
      }
    },
    {
      "cell_type": "code",
      "source": [
        "topic_repo_df"
      ],
      "metadata": {
        "colab": {
          "base_uri": "https://localhost:8080/",
          "height": 676
        },
        "id": "67VbYP3vL8H5",
        "outputId": "0c9eefff-c20d-4e4b-8dad-67ffa90e431f"
      },
      "execution_count": null,
      "outputs": [
        {
          "output_type": "execute_result",
          "data": {
            "text/plain": [
              "              username                      repo_name  stars  \\\n",
              "0               mrdoob                       three.js  97800   \n",
              "1               pmndrs              react-three-fiber  25400   \n",
              "2               libgdx                         libgdx  22500   \n",
              "3            BabylonJS                     Babylon.js  22100   \n",
              "4                ssloy                   tinyrenderer  19000   \n",
              "5              FreeCAD                        FreeCAD  17000   \n",
              "6              lettier  3d-game-shaders-for-beginners  16800   \n",
              "7             aframevr                         aframe  16100   \n",
              "8             CesiumGS                         cesium  11600   \n",
              "9              blender                        blender  11000   \n",
              "10            MonoGame                       MonoGame  10600   \n",
              "11             isl-org                         Open3D  10200   \n",
              "12           metafizzy                           zdog  10200   \n",
              "13         timzhang642            3D-Machine-Learning   9400   \n",
              "14  nerfstudio-project                     nerfstudio   8100   \n",
              "15        a1studmuffin             SpaceshipGenerator   7600   \n",
              "16             domlysz                     BlenderGIS   7100   \n",
              "17         FyroxEngine                          Fyrox   7000   \n",
              "18              google                   model-viewer   6400   \n",
              "19            openscad                       openscad   6300   \n",
              "\n",
              "                                             repo_url  \n",
              "0                  https://github.com/mrdoob/three.js  \n",
              "1         https://github.com/pmndrs/react-three-fiber  \n",
              "2                    https://github.com/libgdx/libgdx  \n",
              "3             https://github.com/BabylonJS/Babylon.js  \n",
              "4               https://github.com/ssloy/tinyrenderer  \n",
              "5                  https://github.com/FreeCAD/FreeCAD  \n",
              "6   https://github.com/lettier/3d-game-shaders-for...  \n",
              "7                  https://github.com/aframevr/aframe  \n",
              "8                  https://github.com/CesiumGS/cesium  \n",
              "9                  https://github.com/blender/blender  \n",
              "10               https://github.com/MonoGame/MonoGame  \n",
              "11                  https://github.com/isl-org/Open3D  \n",
              "12                  https://github.com/metafizzy/zdog  \n",
              "13  https://github.com/timzhang642/3D-Machine-Lear...  \n",
              "14   https://github.com/nerfstudio-project/nerfstudio  \n",
              "15  https://github.com/a1studmuffin/SpaceshipGener...  \n",
              "16              https://github.com/domlysz/BlenderGIS  \n",
              "17               https://github.com/FyroxEngine/Fyrox  \n",
              "18             https://github.com/google/model-viewer  \n",
              "19               https://github.com/openscad/openscad  "
            ],
            "text/html": [
              "\n",
              "  <div id=\"df-b6cb52b1-bc16-4538-be79-763818ff51f6\" class=\"colab-df-container\">\n",
              "    <div>\n",
              "<style scoped>\n",
              "    .dataframe tbody tr th:only-of-type {\n",
              "        vertical-align: middle;\n",
              "    }\n",
              "\n",
              "    .dataframe tbody tr th {\n",
              "        vertical-align: top;\n",
              "    }\n",
              "\n",
              "    .dataframe thead th {\n",
              "        text-align: right;\n",
              "    }\n",
              "</style>\n",
              "<table border=\"1\" class=\"dataframe\">\n",
              "  <thead>\n",
              "    <tr style=\"text-align: right;\">\n",
              "      <th></th>\n",
              "      <th>username</th>\n",
              "      <th>repo_name</th>\n",
              "      <th>stars</th>\n",
              "      <th>repo_url</th>\n",
              "    </tr>\n",
              "  </thead>\n",
              "  <tbody>\n",
              "    <tr>\n",
              "      <th>0</th>\n",
              "      <td>mrdoob</td>\n",
              "      <td>three.js</td>\n",
              "      <td>97800</td>\n",
              "      <td>https://github.com/mrdoob/three.js</td>\n",
              "    </tr>\n",
              "    <tr>\n",
              "      <th>1</th>\n",
              "      <td>pmndrs</td>\n",
              "      <td>react-three-fiber</td>\n",
              "      <td>25400</td>\n",
              "      <td>https://github.com/pmndrs/react-three-fiber</td>\n",
              "    </tr>\n",
              "    <tr>\n",
              "      <th>2</th>\n",
              "      <td>libgdx</td>\n",
              "      <td>libgdx</td>\n",
              "      <td>22500</td>\n",
              "      <td>https://github.com/libgdx/libgdx</td>\n",
              "    </tr>\n",
              "    <tr>\n",
              "      <th>3</th>\n",
              "      <td>BabylonJS</td>\n",
              "      <td>Babylon.js</td>\n",
              "      <td>22100</td>\n",
              "      <td>https://github.com/BabylonJS/Babylon.js</td>\n",
              "    </tr>\n",
              "    <tr>\n",
              "      <th>4</th>\n",
              "      <td>ssloy</td>\n",
              "      <td>tinyrenderer</td>\n",
              "      <td>19000</td>\n",
              "      <td>https://github.com/ssloy/tinyrenderer</td>\n",
              "    </tr>\n",
              "    <tr>\n",
              "      <th>5</th>\n",
              "      <td>FreeCAD</td>\n",
              "      <td>FreeCAD</td>\n",
              "      <td>17000</td>\n",
              "      <td>https://github.com/FreeCAD/FreeCAD</td>\n",
              "    </tr>\n",
              "    <tr>\n",
              "      <th>6</th>\n",
              "      <td>lettier</td>\n",
              "      <td>3d-game-shaders-for-beginners</td>\n",
              "      <td>16800</td>\n",
              "      <td>https://github.com/lettier/3d-game-shaders-for...</td>\n",
              "    </tr>\n",
              "    <tr>\n",
              "      <th>7</th>\n",
              "      <td>aframevr</td>\n",
              "      <td>aframe</td>\n",
              "      <td>16100</td>\n",
              "      <td>https://github.com/aframevr/aframe</td>\n",
              "    </tr>\n",
              "    <tr>\n",
              "      <th>8</th>\n",
              "      <td>CesiumGS</td>\n",
              "      <td>cesium</td>\n",
              "      <td>11600</td>\n",
              "      <td>https://github.com/CesiumGS/cesium</td>\n",
              "    </tr>\n",
              "    <tr>\n",
              "      <th>9</th>\n",
              "      <td>blender</td>\n",
              "      <td>blender</td>\n",
              "      <td>11000</td>\n",
              "      <td>https://github.com/blender/blender</td>\n",
              "    </tr>\n",
              "    <tr>\n",
              "      <th>10</th>\n",
              "      <td>MonoGame</td>\n",
              "      <td>MonoGame</td>\n",
              "      <td>10600</td>\n",
              "      <td>https://github.com/MonoGame/MonoGame</td>\n",
              "    </tr>\n",
              "    <tr>\n",
              "      <th>11</th>\n",
              "      <td>isl-org</td>\n",
              "      <td>Open3D</td>\n",
              "      <td>10200</td>\n",
              "      <td>https://github.com/isl-org/Open3D</td>\n",
              "    </tr>\n",
              "    <tr>\n",
              "      <th>12</th>\n",
              "      <td>metafizzy</td>\n",
              "      <td>zdog</td>\n",
              "      <td>10200</td>\n",
              "      <td>https://github.com/metafizzy/zdog</td>\n",
              "    </tr>\n",
              "    <tr>\n",
              "      <th>13</th>\n",
              "      <td>timzhang642</td>\n",
              "      <td>3D-Machine-Learning</td>\n",
              "      <td>9400</td>\n",
              "      <td>https://github.com/timzhang642/3D-Machine-Lear...</td>\n",
              "    </tr>\n",
              "    <tr>\n",
              "      <th>14</th>\n",
              "      <td>nerfstudio-project</td>\n",
              "      <td>nerfstudio</td>\n",
              "      <td>8100</td>\n",
              "      <td>https://github.com/nerfstudio-project/nerfstudio</td>\n",
              "    </tr>\n",
              "    <tr>\n",
              "      <th>15</th>\n",
              "      <td>a1studmuffin</td>\n",
              "      <td>SpaceshipGenerator</td>\n",
              "      <td>7600</td>\n",
              "      <td>https://github.com/a1studmuffin/SpaceshipGener...</td>\n",
              "    </tr>\n",
              "    <tr>\n",
              "      <th>16</th>\n",
              "      <td>domlysz</td>\n",
              "      <td>BlenderGIS</td>\n",
              "      <td>7100</td>\n",
              "      <td>https://github.com/domlysz/BlenderGIS</td>\n",
              "    </tr>\n",
              "    <tr>\n",
              "      <th>17</th>\n",
              "      <td>FyroxEngine</td>\n",
              "      <td>Fyrox</td>\n",
              "      <td>7000</td>\n",
              "      <td>https://github.com/FyroxEngine/Fyrox</td>\n",
              "    </tr>\n",
              "    <tr>\n",
              "      <th>18</th>\n",
              "      <td>google</td>\n",
              "      <td>model-viewer</td>\n",
              "      <td>6400</td>\n",
              "      <td>https://github.com/google/model-viewer</td>\n",
              "    </tr>\n",
              "    <tr>\n",
              "      <th>19</th>\n",
              "      <td>openscad</td>\n",
              "      <td>openscad</td>\n",
              "      <td>6300</td>\n",
              "      <td>https://github.com/openscad/openscad</td>\n",
              "    </tr>\n",
              "  </tbody>\n",
              "</table>\n",
              "</div>\n",
              "    <div class=\"colab-df-buttons\">\n",
              "\n",
              "  <div class=\"colab-df-container\">\n",
              "    <button class=\"colab-df-convert\" onclick=\"convertToInteractive('df-b6cb52b1-bc16-4538-be79-763818ff51f6')\"\n",
              "            title=\"Convert this dataframe to an interactive table.\"\n",
              "            style=\"display:none;\">\n",
              "\n",
              "  <svg xmlns=\"http://www.w3.org/2000/svg\" height=\"24px\" viewBox=\"0 -960 960 960\">\n",
              "    <path d=\"M120-120v-720h720v720H120Zm60-500h600v-160H180v160Zm220 220h160v-160H400v160Zm0 220h160v-160H400v160ZM180-400h160v-160H180v160Zm440 0h160v-160H620v160ZM180-180h160v-160H180v160Zm440 0h160v-160H620v160Z\"/>\n",
              "  </svg>\n",
              "    </button>\n",
              "\n",
              "  <style>\n",
              "    .colab-df-container {\n",
              "      display:flex;\n",
              "      gap: 12px;\n",
              "    }\n",
              "\n",
              "    .colab-df-convert {\n",
              "      background-color: #E8F0FE;\n",
              "      border: none;\n",
              "      border-radius: 50%;\n",
              "      cursor: pointer;\n",
              "      display: none;\n",
              "      fill: #1967D2;\n",
              "      height: 32px;\n",
              "      padding: 0 0 0 0;\n",
              "      width: 32px;\n",
              "    }\n",
              "\n",
              "    .colab-df-convert:hover {\n",
              "      background-color: #E2EBFA;\n",
              "      box-shadow: 0px 1px 2px rgba(60, 64, 67, 0.3), 0px 1px 3px 1px rgba(60, 64, 67, 0.15);\n",
              "      fill: #174EA6;\n",
              "    }\n",
              "\n",
              "    .colab-df-buttons div {\n",
              "      margin-bottom: 4px;\n",
              "    }\n",
              "\n",
              "    [theme=dark] .colab-df-convert {\n",
              "      background-color: #3B4455;\n",
              "      fill: #D2E3FC;\n",
              "    }\n",
              "\n",
              "    [theme=dark] .colab-df-convert:hover {\n",
              "      background-color: #434B5C;\n",
              "      box-shadow: 0px 1px 3px 1px rgba(0, 0, 0, 0.15);\n",
              "      filter: drop-shadow(0px 1px 2px rgba(0, 0, 0, 0.3));\n",
              "      fill: #FFFFFF;\n",
              "    }\n",
              "  </style>\n",
              "\n",
              "    <script>\n",
              "      const buttonEl =\n",
              "        document.querySelector('#df-b6cb52b1-bc16-4538-be79-763818ff51f6 button.colab-df-convert');\n",
              "      buttonEl.style.display =\n",
              "        google.colab.kernel.accessAllowed ? 'block' : 'none';\n",
              "\n",
              "      async function convertToInteractive(key) {\n",
              "        const element = document.querySelector('#df-b6cb52b1-bc16-4538-be79-763818ff51f6');\n",
              "        const dataTable =\n",
              "          await google.colab.kernel.invokeFunction('convertToInteractive',\n",
              "                                                    [key], {});\n",
              "        if (!dataTable) return;\n",
              "\n",
              "        const docLinkHtml = 'Like what you see? Visit the ' +\n",
              "          '<a target=\"_blank\" href=https://colab.research.google.com/notebooks/data_table.ipynb>data table notebook</a>'\n",
              "          + ' to learn more about interactive tables.';\n",
              "        element.innerHTML = '';\n",
              "        dataTable['output_type'] = 'display_data';\n",
              "        await google.colab.output.renderOutput(dataTable, element);\n",
              "        const docLink = document.createElement('div');\n",
              "        docLink.innerHTML = docLinkHtml;\n",
              "        element.appendChild(docLink);\n",
              "      }\n",
              "    </script>\n",
              "  </div>\n",
              "\n",
              "\n",
              "<div id=\"df-fc95c2fc-0746-47f4-840f-a6d2f7b95387\">\n",
              "  <button class=\"colab-df-quickchart\" onclick=\"quickchart('df-fc95c2fc-0746-47f4-840f-a6d2f7b95387')\"\n",
              "            title=\"Suggest charts\"\n",
              "            style=\"display:none;\">\n",
              "\n",
              "<svg xmlns=\"http://www.w3.org/2000/svg\" height=\"24px\"viewBox=\"0 0 24 24\"\n",
              "     width=\"24px\">\n",
              "    <g>\n",
              "        <path d=\"M19 3H5c-1.1 0-2 .9-2 2v14c0 1.1.9 2 2 2h14c1.1 0 2-.9 2-2V5c0-1.1-.9-2-2-2zM9 17H7v-7h2v7zm4 0h-2V7h2v10zm4 0h-2v-4h2v4z\"/>\n",
              "    </g>\n",
              "</svg>\n",
              "  </button>\n",
              "\n",
              "<style>\n",
              "  .colab-df-quickchart {\n",
              "      --bg-color: #E8F0FE;\n",
              "      --fill-color: #1967D2;\n",
              "      --hover-bg-color: #E2EBFA;\n",
              "      --hover-fill-color: #174EA6;\n",
              "      --disabled-fill-color: #AAA;\n",
              "      --disabled-bg-color: #DDD;\n",
              "  }\n",
              "\n",
              "  [theme=dark] .colab-df-quickchart {\n",
              "      --bg-color: #3B4455;\n",
              "      --fill-color: #D2E3FC;\n",
              "      --hover-bg-color: #434B5C;\n",
              "      --hover-fill-color: #FFFFFF;\n",
              "      --disabled-bg-color: #3B4455;\n",
              "      --disabled-fill-color: #666;\n",
              "  }\n",
              "\n",
              "  .colab-df-quickchart {\n",
              "    background-color: var(--bg-color);\n",
              "    border: none;\n",
              "    border-radius: 50%;\n",
              "    cursor: pointer;\n",
              "    display: none;\n",
              "    fill: var(--fill-color);\n",
              "    height: 32px;\n",
              "    padding: 0;\n",
              "    width: 32px;\n",
              "  }\n",
              "\n",
              "  .colab-df-quickchart:hover {\n",
              "    background-color: var(--hover-bg-color);\n",
              "    box-shadow: 0 1px 2px rgba(60, 64, 67, 0.3), 0 1px 3px 1px rgba(60, 64, 67, 0.15);\n",
              "    fill: var(--button-hover-fill-color);\n",
              "  }\n",
              "\n",
              "  .colab-df-quickchart-complete:disabled,\n",
              "  .colab-df-quickchart-complete:disabled:hover {\n",
              "    background-color: var(--disabled-bg-color);\n",
              "    fill: var(--disabled-fill-color);\n",
              "    box-shadow: none;\n",
              "  }\n",
              "\n",
              "  .colab-df-spinner {\n",
              "    border: 2px solid var(--fill-color);\n",
              "    border-color: transparent;\n",
              "    border-bottom-color: var(--fill-color);\n",
              "    animation:\n",
              "      spin 1s steps(1) infinite;\n",
              "  }\n",
              "\n",
              "  @keyframes spin {\n",
              "    0% {\n",
              "      border-color: transparent;\n",
              "      border-bottom-color: var(--fill-color);\n",
              "      border-left-color: var(--fill-color);\n",
              "    }\n",
              "    20% {\n",
              "      border-color: transparent;\n",
              "      border-left-color: var(--fill-color);\n",
              "      border-top-color: var(--fill-color);\n",
              "    }\n",
              "    30% {\n",
              "      border-color: transparent;\n",
              "      border-left-color: var(--fill-color);\n",
              "      border-top-color: var(--fill-color);\n",
              "      border-right-color: var(--fill-color);\n",
              "    }\n",
              "    40% {\n",
              "      border-color: transparent;\n",
              "      border-right-color: var(--fill-color);\n",
              "      border-top-color: var(--fill-color);\n",
              "    }\n",
              "    60% {\n",
              "      border-color: transparent;\n",
              "      border-right-color: var(--fill-color);\n",
              "    }\n",
              "    80% {\n",
              "      border-color: transparent;\n",
              "      border-right-color: var(--fill-color);\n",
              "      border-bottom-color: var(--fill-color);\n",
              "    }\n",
              "    90% {\n",
              "      border-color: transparent;\n",
              "      border-bottom-color: var(--fill-color);\n",
              "    }\n",
              "  }\n",
              "</style>\n",
              "\n",
              "  <script>\n",
              "    async function quickchart(key) {\n",
              "      const quickchartButtonEl =\n",
              "        document.querySelector('#' + key + ' button');\n",
              "      quickchartButtonEl.disabled = true;  // To prevent multiple clicks.\n",
              "      quickchartButtonEl.classList.add('colab-df-spinner');\n",
              "      try {\n",
              "        const charts = await google.colab.kernel.invokeFunction(\n",
              "            'suggestCharts', [key], {});\n",
              "      } catch (error) {\n",
              "        console.error('Error during call to suggestCharts:', error);\n",
              "      }\n",
              "      quickchartButtonEl.classList.remove('colab-df-spinner');\n",
              "      quickchartButtonEl.classList.add('colab-df-quickchart-complete');\n",
              "    }\n",
              "    (() => {\n",
              "      let quickchartButtonEl =\n",
              "        document.querySelector('#df-fc95c2fc-0746-47f4-840f-a6d2f7b95387 button');\n",
              "      quickchartButtonEl.style.display =\n",
              "        google.colab.kernel.accessAllowed ? 'block' : 'none';\n",
              "    })();\n",
              "  </script>\n",
              "</div>\n",
              "\n",
              "  <div id=\"id_7c963fb3-8875-4748-8499-1795aae1b126\">\n",
              "    <style>\n",
              "      .colab-df-generate {\n",
              "        background-color: #E8F0FE;\n",
              "        border: none;\n",
              "        border-radius: 50%;\n",
              "        cursor: pointer;\n",
              "        display: none;\n",
              "        fill: #1967D2;\n",
              "        height: 32px;\n",
              "        padding: 0 0 0 0;\n",
              "        width: 32px;\n",
              "      }\n",
              "\n",
              "      .colab-df-generate:hover {\n",
              "        background-color: #E2EBFA;\n",
              "        box-shadow: 0px 1px 2px rgba(60, 64, 67, 0.3), 0px 1px 3px 1px rgba(60, 64, 67, 0.15);\n",
              "        fill: #174EA6;\n",
              "      }\n",
              "\n",
              "      [theme=dark] .colab-df-generate {\n",
              "        background-color: #3B4455;\n",
              "        fill: #D2E3FC;\n",
              "      }\n",
              "\n",
              "      [theme=dark] .colab-df-generate:hover {\n",
              "        background-color: #434B5C;\n",
              "        box-shadow: 0px 1px 3px 1px rgba(0, 0, 0, 0.15);\n",
              "        filter: drop-shadow(0px 1px 2px rgba(0, 0, 0, 0.3));\n",
              "        fill: #FFFFFF;\n",
              "      }\n",
              "    </style>\n",
              "    <button class=\"colab-df-generate\" onclick=\"generateWithVariable('topic_repo_df')\"\n",
              "            title=\"Generate code using this dataframe.\"\n",
              "            style=\"display:none;\">\n",
              "\n",
              "  <svg xmlns=\"http://www.w3.org/2000/svg\" height=\"24px\"viewBox=\"0 0 24 24\"\n",
              "       width=\"24px\">\n",
              "    <path d=\"M7,19H8.4L18.45,9,17,7.55,7,17.6ZM5,21V16.75L18.45,3.32a2,2,0,0,1,2.83,0l1.4,1.43a1.91,1.91,0,0,1,.58,1.4,1.91,1.91,0,0,1-.58,1.4L9.25,21ZM18.45,9,17,7.55Zm-12,3A5.31,5.31,0,0,0,4.9,8.1,5.31,5.31,0,0,0,1,6.5,5.31,5.31,0,0,0,4.9,4.9,5.31,5.31,0,0,0,6.5,1,5.31,5.31,0,0,0,8.1,4.9,5.31,5.31,0,0,0,12,6.5,5.46,5.46,0,0,0,6.5,12Z\"/>\n",
              "  </svg>\n",
              "    </button>\n",
              "    <script>\n",
              "      (() => {\n",
              "      const buttonEl =\n",
              "        document.querySelector('#id_7c963fb3-8875-4748-8499-1795aae1b126 button.colab-df-generate');\n",
              "      buttonEl.style.display =\n",
              "        google.colab.kernel.accessAllowed ? 'block' : 'none';\n",
              "\n",
              "      buttonEl.onclick = () => {\n",
              "        google.colab.notebook.generateWithVariable('topic_repo_df');\n",
              "      }\n",
              "      })();\n",
              "    </script>\n",
              "  </div>\n",
              "\n",
              "    </div>\n",
              "  </div>\n"
            ],
            "application/vnd.google.colaboratory.intrinsic+json": {
              "type": "dataframe",
              "variable_name": "topic_repo_df",
              "summary": "{\n  \"name\": \"topic_repo_df\",\n  \"rows\": 20,\n  \"fields\": [\n    {\n      \"column\": \"username\",\n      \"properties\": {\n        \"dtype\": \"string\",\n        \"num_unique_values\": 20,\n        \"samples\": [\n          \"mrdoob\",\n          \"FyroxEngine\",\n          \"a1studmuffin\"\n        ],\n        \"semantic_type\": \"\",\n        \"description\": \"\"\n      }\n    },\n    {\n      \"column\": \"repo_name\",\n      \"properties\": {\n        \"dtype\": \"string\",\n        \"num_unique_values\": 20,\n        \"samples\": [\n          \"three.js\",\n          \"Fyrox\",\n          \"SpaceshipGenerator\"\n        ],\n        \"semantic_type\": \"\",\n        \"description\": \"\"\n      }\n    },\n    {\n      \"column\": \"stars\",\n      \"properties\": {\n        \"dtype\": \"number\",\n        \"std\": 19879,\n        \"min\": 6300,\n        \"max\": 97800,\n        \"num_unique_values\": 19,\n        \"samples\": [\n          97800,\n          17000,\n          10200\n        ],\n        \"semantic_type\": \"\",\n        \"description\": \"\"\n      }\n    },\n    {\n      \"column\": \"repo_url\",\n      \"properties\": {\n        \"dtype\": \"string\",\n        \"num_unique_values\": 20,\n        \"samples\": [\n          \"https://github.com/mrdoob/three.js\",\n          \"https://github.com/FyroxEngine/Fyrox\",\n          \"https://github.com/a1studmuffin/SpaceshipGenerator\"\n        ],\n        \"semantic_type\": \"\",\n        \"description\": \"\"\n      }\n    }\n  ]\n}"
            }
          },
          "metadata": {},
          "execution_count": 191
        }
      ]
    },
    {
      "cell_type": "markdown",
      "source": [
        "Now we have to do it for all the topics"
      ],
      "metadata": {
        "id": "k8W-JVqJMPDm"
      }
    },
    {
      "cell_type": "markdown",
      "source": [
        "# **Final code**"
      ],
      "metadata": {
        "id": "ZL39wl5yZfQk"
      }
    },
    {
      "cell_type": "code",
      "source": [
        "import os\n",
        "\n",
        "def get_topic_page(topic_url):\n",
        "  # Download the page\n",
        "  response = requests.get(topic_url)\n",
        "  # Check successful response\n",
        "  if response.status_code != 200:\n",
        "       raise Exception('Failed to load page {}'.format(topic_url))\n",
        "  # Parse using BeautifulSoup\n",
        "  topic_doc = BeautifulSoup(response.text, 'html.parser')\n",
        "  return topic_doc\n",
        "\n",
        "def get_repo_info(h1_tag, star_tag):\n",
        "\n",
        "   # Return all the required info about a respository\n",
        "\n",
        "   a_tags = h1_tag.find_all('a')\n",
        "   username = a_tags[0].text.strip()\n",
        "   repo_name = a_tags[1].text.strip()\n",
        "   repo_url = base_url + a_tags[1]['href']\n",
        "   stars = parse_star_count(star_tag.text.strip())\n",
        "   return username, repo_name, stars, repo_url\n",
        "\n",
        "\n",
        "def get_topic_repos(topic_doc):\n",
        "\n",
        "   # Get the h1 tags containing repo title, repo URL and username\n",
        "\n",
        "    h3_selection_class = 'f3 color-fg-muted text-normal lh-condensed'\n",
        "    repo_tags = topic_doc.find_all('h3', {'class': h3_selection_class})\n",
        "\n",
        "    # Get star tags\n",
        "\n",
        "    star_class = 'Counter js-social-count'\n",
        "    star_tags = topic_doc.find_all('span', {'class': star_class})\n",
        "\n",
        "    topic_repos_dict = {\n",
        "        'username' : [],\n",
        "        'repo_name' : [],\n",
        "        'stars' : [],\n",
        "        'repo_url' : []\n",
        "    }\n",
        "\n",
        "    # Get repo info\n",
        "\n",
        "    for i in range(len(repo_tags)):\n",
        "      repo_info = get_repo_info(repo_tags[i],star_tags[i])\n",
        "      topic_repos_dict['username'].append(repo_info[0])\n",
        "      topic_repos_dict['repo_name'].append(repo_info[1])\n",
        "      topic_repos_dict['stars'].append(repo_info[2])\n",
        "      topic_repos_dict['repo_url'].append(repo_info[3])\n",
        "\n",
        "\n",
        "    return pd.DataFrame(topic_repos_dict)\n",
        "\n",
        "\n",
        "def scrape_topic(topic_url, path):\n",
        "  if os.path.exists( path):\n",
        "      print(\"The file {} already exists. Skipping...\".format( path))\n",
        "      return\n",
        "  topic_df = get_topic_repos(get_topic_page(topic_url))\n",
        "  topic_df.to_csv( path , index=None)\n"
      ],
      "metadata": {
        "id": "7a-CSS5XL-ab"
      },
      "execution_count": null,
      "outputs": []
    },
    {
      "cell_type": "code",
      "source": [
        "# Suppose let's get the example of topic 4\n",
        "\n",
        "url4 = topic_url[4]\n",
        "print(url4)"
      ],
      "metadata": {
        "colab": {
          "base_uri": "https://localhost:8080/"
        },
        "id": "TBS1M90Q0xvK",
        "outputId": "dcf481ca-e35a-40dc-810e-2ef8260e9051"
      },
      "execution_count": null,
      "outputs": [
        {
          "output_type": "stream",
          "name": "stdout",
          "text": [
            "https://github.com/topics/android\n"
          ]
        }
      ]
    },
    {
      "cell_type": "code",
      "source": [
        "topic4_doc = get_topic_page(url4)"
      ],
      "metadata": {
        "id": "UsTpSz3v49u9"
      },
      "execution_count": null,
      "outputs": []
    },
    {
      "cell_type": "code",
      "source": [
        "topic4_repos = get_topic_repos(topic4_doc)"
      ],
      "metadata": {
        "id": "HhRHkLvP5c3u"
      },
      "execution_count": null,
      "outputs": []
    },
    {
      "cell_type": "code",
      "source": [
        "topic4_repos.to_csv('android.csv', index = None)"
      ],
      "metadata": {
        "id": "jGyz9l-P5x8F"
      },
      "execution_count": null,
      "outputs": []
    },
    {
      "cell_type": "markdown",
      "source": [
        "\n",
        "### Write a single function to :\n",
        "1. Get the list of topics from the topics page.\n",
        "2. Get the list of top repos from the individual topic pages\n",
        "3. For each topic, create a CSV of the top repos for the topic\n",
        "\n",
        "\n"
      ],
      "metadata": {
        "id": "Ssq9E5HL7V7Y"
      }
    },
    {
      "cell_type": "code",
      "source": [
        "def get_topic_titles(doc):\n",
        "\n",
        "  topic_class = 'f3 lh-condensed mb-0 mt-1 Link--primary'\n",
        "  topic_title_tags = doc.find_all('p', {'class': topic_class})\n",
        "  topic_titles = []\n",
        "  for tag in topic_title_tags:\n",
        "    topic_titles.append(tag.text)\n",
        "  return topic_titles\n",
        "\n",
        "\n",
        "def get_topic_desc(doc):\n",
        "    desc_class = 'f5 color-fg-muted mb-0 mt-1'\n",
        "    topic_desc_tags = doc.find_all('p', {'class': desc_class})\n",
        "    topic_desc = []\n",
        "    for tag in topic_desc_tags:\n",
        "       topic_desc.append(tag.text.strip())\n",
        "    return topic_desc\n",
        "\n",
        "\n",
        "def get_topic_urls(doc):\n",
        "    link_class = 'no-underline flex-1 d-flex flex-column'\n",
        "    link_title_tags = doc.find_all('a', {'class': link_class})\n",
        "    topic_urls = []\n",
        "    base_url = 'https://github.com'\n",
        "    for tag in link_title_tags:\n",
        "      topic_urls.append(base_url + tag['href'])\n",
        "    return topic_urls\n",
        "\n",
        "\n",
        "def scrape_topics():\n",
        "    topics_url = 'https://github.com/topics'\n",
        "    response = requests.get(topics_url)\n",
        "    if response.status_code != 200:\n",
        "       raise Exception('Failed to load page {}'.format(topic_url))\n",
        "    topics_dict = {\n",
        "        'title': get_topic_titles(doc),\n",
        "        'description': get_topic_desc(doc),\n",
        "        'url': get_topic_urls(doc)\n",
        "    }\n",
        "    return pd.DataFrame(topics_dict)\n"
      ],
      "metadata": {
        "id": "ipr52luS52Ez"
      },
      "execution_count": null,
      "outputs": []
    },
    {
      "cell_type": "code",
      "source": [
        "scrape_topics()"
      ],
      "metadata": {
        "colab": {
          "base_uri": "https://localhost:8080/",
          "height": 990
        },
        "id": "0yE3jYXMF1ij",
        "outputId": "b9fdfeca-c675-4422-9392-a00e04d0b8e2"
      },
      "execution_count": null,
      "outputs": [
        {
          "output_type": "execute_result",
          "data": {
            "text/plain": [
              "                     title                                        description  \\\n",
              "0                       3D  3D refers to the use of three-dimensional grap...   \n",
              "1                     Ajax  Ajax is a technique for creating interactive w...   \n",
              "2                Algorithm  Algorithms are self-contained sequences that c...   \n",
              "3                      Amp  Amp is a non-blocking concurrency library for ...   \n",
              "4                  Android  Android is an operating system built by Google...   \n",
              "5                  Angular  Angular is an open source web application plat...   \n",
              "6                  Ansible  Ansible is a simple and powerful automation en...   \n",
              "7                      API  An API (Application Programming Interface) is ...   \n",
              "8                  Arduino  Arduino is an open source platform for buildin...   \n",
              "9                  ASP.NET  ASP.NET is a web framework for building modern...   \n",
              "10                    Atom  Atom is a open source text editor built with w...   \n",
              "11           Awesome Lists  An awesome list is a list of awesome things cu...   \n",
              "12     Amazon Web Services  Amazon Web Services provides on-demand cloud c...   \n",
              "13                   Azure  Azure is a cloud computing service created by ...   \n",
              "14                   Babel  Babel is a compiler for writing next generatio...   \n",
              "15                    Bash  Bash is a shell and command language interpret...   \n",
              "16                 Bitcoin  Bitcoin is a cryptocurrency developed by Satos...   \n",
              "17               Bootstrap  Bootstrap is an HTML, CSS, and JavaScript fram...   \n",
              "18                     Bot  A bot is an application that runs automated ta...   \n",
              "19                       C  C is a general purpose programming language th...   \n",
              "20                  Chrome  Chrome is a web browser from the tech company ...   \n",
              "21        Chrome extension  Chrome extensions enable users to customize th...   \n",
              "22  Command line interface  A CLI, or command-line interface, is a console...   \n",
              "23                 Clojure  Clojure is a dynamic, general-purpose programm...   \n",
              "24            Code quality  Automate your code review with style, quality,...   \n",
              "25             Code review  Ensure your code meets quality standards and s...   \n",
              "26                Compiler  Compilers are software that translate higher-l...   \n",
              "27  Continuous integration  Automatically build and test your code as you ...   \n",
              "28                COVID-19  The coronavirus disease 2019 (COVID-19) is an ...   \n",
              "29                     C++  C++ is a general purpose and object-oriented p...   \n",
              "\n",
              "                                                 url  \n",
              "0                       https://github.com/topics/3d  \n",
              "1                     https://github.com/topics/ajax  \n",
              "2                https://github.com/topics/algorithm  \n",
              "3                    https://github.com/topics/amphp  \n",
              "4                  https://github.com/topics/android  \n",
              "5                  https://github.com/topics/angular  \n",
              "6                  https://github.com/topics/ansible  \n",
              "7                      https://github.com/topics/api  \n",
              "8                  https://github.com/topics/arduino  \n",
              "9                   https://github.com/topics/aspnet  \n",
              "10                    https://github.com/topics/atom  \n",
              "11                 https://github.com/topics/awesome  \n",
              "12                     https://github.com/topics/aws  \n",
              "13                   https://github.com/topics/azure  \n",
              "14                   https://github.com/topics/babel  \n",
              "15                    https://github.com/topics/bash  \n",
              "16                 https://github.com/topics/bitcoin  \n",
              "17               https://github.com/topics/bootstrap  \n",
              "18                     https://github.com/topics/bot  \n",
              "19                       https://github.com/topics/c  \n",
              "20                  https://github.com/topics/chrome  \n",
              "21        https://github.com/topics/chrome-extension  \n",
              "22                     https://github.com/topics/cli  \n",
              "23                 https://github.com/topics/clojure  \n",
              "24            https://github.com/topics/code-quality  \n",
              "25             https://github.com/topics/code-review  \n",
              "26                https://github.com/topics/compiler  \n",
              "27  https://github.com/topics/continuous-integration  \n",
              "28                https://github.com/topics/covid-19  \n",
              "29                     https://github.com/topics/cpp  "
            ],
            "text/html": [
              "\n",
              "  <div id=\"df-42970809-4a1c-4b90-8216-a84eb157e674\" class=\"colab-df-container\">\n",
              "    <div>\n",
              "<style scoped>\n",
              "    .dataframe tbody tr th:only-of-type {\n",
              "        vertical-align: middle;\n",
              "    }\n",
              "\n",
              "    .dataframe tbody tr th {\n",
              "        vertical-align: top;\n",
              "    }\n",
              "\n",
              "    .dataframe thead th {\n",
              "        text-align: right;\n",
              "    }\n",
              "</style>\n",
              "<table border=\"1\" class=\"dataframe\">\n",
              "  <thead>\n",
              "    <tr style=\"text-align: right;\">\n",
              "      <th></th>\n",
              "      <th>title</th>\n",
              "      <th>description</th>\n",
              "      <th>url</th>\n",
              "    </tr>\n",
              "  </thead>\n",
              "  <tbody>\n",
              "    <tr>\n",
              "      <th>0</th>\n",
              "      <td>3D</td>\n",
              "      <td>3D refers to the use of three-dimensional grap...</td>\n",
              "      <td>https://github.com/topics/3d</td>\n",
              "    </tr>\n",
              "    <tr>\n",
              "      <th>1</th>\n",
              "      <td>Ajax</td>\n",
              "      <td>Ajax is a technique for creating interactive w...</td>\n",
              "      <td>https://github.com/topics/ajax</td>\n",
              "    </tr>\n",
              "    <tr>\n",
              "      <th>2</th>\n",
              "      <td>Algorithm</td>\n",
              "      <td>Algorithms are self-contained sequences that c...</td>\n",
              "      <td>https://github.com/topics/algorithm</td>\n",
              "    </tr>\n",
              "    <tr>\n",
              "      <th>3</th>\n",
              "      <td>Amp</td>\n",
              "      <td>Amp is a non-blocking concurrency library for ...</td>\n",
              "      <td>https://github.com/topics/amphp</td>\n",
              "    </tr>\n",
              "    <tr>\n",
              "      <th>4</th>\n",
              "      <td>Android</td>\n",
              "      <td>Android is an operating system built by Google...</td>\n",
              "      <td>https://github.com/topics/android</td>\n",
              "    </tr>\n",
              "    <tr>\n",
              "      <th>5</th>\n",
              "      <td>Angular</td>\n",
              "      <td>Angular is an open source web application plat...</td>\n",
              "      <td>https://github.com/topics/angular</td>\n",
              "    </tr>\n",
              "    <tr>\n",
              "      <th>6</th>\n",
              "      <td>Ansible</td>\n",
              "      <td>Ansible is a simple and powerful automation en...</td>\n",
              "      <td>https://github.com/topics/ansible</td>\n",
              "    </tr>\n",
              "    <tr>\n",
              "      <th>7</th>\n",
              "      <td>API</td>\n",
              "      <td>An API (Application Programming Interface) is ...</td>\n",
              "      <td>https://github.com/topics/api</td>\n",
              "    </tr>\n",
              "    <tr>\n",
              "      <th>8</th>\n",
              "      <td>Arduino</td>\n",
              "      <td>Arduino is an open source platform for buildin...</td>\n",
              "      <td>https://github.com/topics/arduino</td>\n",
              "    </tr>\n",
              "    <tr>\n",
              "      <th>9</th>\n",
              "      <td>ASP.NET</td>\n",
              "      <td>ASP.NET is a web framework for building modern...</td>\n",
              "      <td>https://github.com/topics/aspnet</td>\n",
              "    </tr>\n",
              "    <tr>\n",
              "      <th>10</th>\n",
              "      <td>Atom</td>\n",
              "      <td>Atom is a open source text editor built with w...</td>\n",
              "      <td>https://github.com/topics/atom</td>\n",
              "    </tr>\n",
              "    <tr>\n",
              "      <th>11</th>\n",
              "      <td>Awesome Lists</td>\n",
              "      <td>An awesome list is a list of awesome things cu...</td>\n",
              "      <td>https://github.com/topics/awesome</td>\n",
              "    </tr>\n",
              "    <tr>\n",
              "      <th>12</th>\n",
              "      <td>Amazon Web Services</td>\n",
              "      <td>Amazon Web Services provides on-demand cloud c...</td>\n",
              "      <td>https://github.com/topics/aws</td>\n",
              "    </tr>\n",
              "    <tr>\n",
              "      <th>13</th>\n",
              "      <td>Azure</td>\n",
              "      <td>Azure is a cloud computing service created by ...</td>\n",
              "      <td>https://github.com/topics/azure</td>\n",
              "    </tr>\n",
              "    <tr>\n",
              "      <th>14</th>\n",
              "      <td>Babel</td>\n",
              "      <td>Babel is a compiler for writing next generatio...</td>\n",
              "      <td>https://github.com/topics/babel</td>\n",
              "    </tr>\n",
              "    <tr>\n",
              "      <th>15</th>\n",
              "      <td>Bash</td>\n",
              "      <td>Bash is a shell and command language interpret...</td>\n",
              "      <td>https://github.com/topics/bash</td>\n",
              "    </tr>\n",
              "    <tr>\n",
              "      <th>16</th>\n",
              "      <td>Bitcoin</td>\n",
              "      <td>Bitcoin is a cryptocurrency developed by Satos...</td>\n",
              "      <td>https://github.com/topics/bitcoin</td>\n",
              "    </tr>\n",
              "    <tr>\n",
              "      <th>17</th>\n",
              "      <td>Bootstrap</td>\n",
              "      <td>Bootstrap is an HTML, CSS, and JavaScript fram...</td>\n",
              "      <td>https://github.com/topics/bootstrap</td>\n",
              "    </tr>\n",
              "    <tr>\n",
              "      <th>18</th>\n",
              "      <td>Bot</td>\n",
              "      <td>A bot is an application that runs automated ta...</td>\n",
              "      <td>https://github.com/topics/bot</td>\n",
              "    </tr>\n",
              "    <tr>\n",
              "      <th>19</th>\n",
              "      <td>C</td>\n",
              "      <td>C is a general purpose programming language th...</td>\n",
              "      <td>https://github.com/topics/c</td>\n",
              "    </tr>\n",
              "    <tr>\n",
              "      <th>20</th>\n",
              "      <td>Chrome</td>\n",
              "      <td>Chrome is a web browser from the tech company ...</td>\n",
              "      <td>https://github.com/topics/chrome</td>\n",
              "    </tr>\n",
              "    <tr>\n",
              "      <th>21</th>\n",
              "      <td>Chrome extension</td>\n",
              "      <td>Chrome extensions enable users to customize th...</td>\n",
              "      <td>https://github.com/topics/chrome-extension</td>\n",
              "    </tr>\n",
              "    <tr>\n",
              "      <th>22</th>\n",
              "      <td>Command line interface</td>\n",
              "      <td>A CLI, or command-line interface, is a console...</td>\n",
              "      <td>https://github.com/topics/cli</td>\n",
              "    </tr>\n",
              "    <tr>\n",
              "      <th>23</th>\n",
              "      <td>Clojure</td>\n",
              "      <td>Clojure is a dynamic, general-purpose programm...</td>\n",
              "      <td>https://github.com/topics/clojure</td>\n",
              "    </tr>\n",
              "    <tr>\n",
              "      <th>24</th>\n",
              "      <td>Code quality</td>\n",
              "      <td>Automate your code review with style, quality,...</td>\n",
              "      <td>https://github.com/topics/code-quality</td>\n",
              "    </tr>\n",
              "    <tr>\n",
              "      <th>25</th>\n",
              "      <td>Code review</td>\n",
              "      <td>Ensure your code meets quality standards and s...</td>\n",
              "      <td>https://github.com/topics/code-review</td>\n",
              "    </tr>\n",
              "    <tr>\n",
              "      <th>26</th>\n",
              "      <td>Compiler</td>\n",
              "      <td>Compilers are software that translate higher-l...</td>\n",
              "      <td>https://github.com/topics/compiler</td>\n",
              "    </tr>\n",
              "    <tr>\n",
              "      <th>27</th>\n",
              "      <td>Continuous integration</td>\n",
              "      <td>Automatically build and test your code as you ...</td>\n",
              "      <td>https://github.com/topics/continuous-integration</td>\n",
              "    </tr>\n",
              "    <tr>\n",
              "      <th>28</th>\n",
              "      <td>COVID-19</td>\n",
              "      <td>The coronavirus disease 2019 (COVID-19) is an ...</td>\n",
              "      <td>https://github.com/topics/covid-19</td>\n",
              "    </tr>\n",
              "    <tr>\n",
              "      <th>29</th>\n",
              "      <td>C++</td>\n",
              "      <td>C++ is a general purpose and object-oriented p...</td>\n",
              "      <td>https://github.com/topics/cpp</td>\n",
              "    </tr>\n",
              "  </tbody>\n",
              "</table>\n",
              "</div>\n",
              "    <div class=\"colab-df-buttons\">\n",
              "\n",
              "  <div class=\"colab-df-container\">\n",
              "    <button class=\"colab-df-convert\" onclick=\"convertToInteractive('df-42970809-4a1c-4b90-8216-a84eb157e674')\"\n",
              "            title=\"Convert this dataframe to an interactive table.\"\n",
              "            style=\"display:none;\">\n",
              "\n",
              "  <svg xmlns=\"http://www.w3.org/2000/svg\" height=\"24px\" viewBox=\"0 -960 960 960\">\n",
              "    <path d=\"M120-120v-720h720v720H120Zm60-500h600v-160H180v160Zm220 220h160v-160H400v160Zm0 220h160v-160H400v160ZM180-400h160v-160H180v160Zm440 0h160v-160H620v160ZM180-180h160v-160H180v160Zm440 0h160v-160H620v160Z\"/>\n",
              "  </svg>\n",
              "    </button>\n",
              "\n",
              "  <style>\n",
              "    .colab-df-container {\n",
              "      display:flex;\n",
              "      gap: 12px;\n",
              "    }\n",
              "\n",
              "    .colab-df-convert {\n",
              "      background-color: #E8F0FE;\n",
              "      border: none;\n",
              "      border-radius: 50%;\n",
              "      cursor: pointer;\n",
              "      display: none;\n",
              "      fill: #1967D2;\n",
              "      height: 32px;\n",
              "      padding: 0 0 0 0;\n",
              "      width: 32px;\n",
              "    }\n",
              "\n",
              "    .colab-df-convert:hover {\n",
              "      background-color: #E2EBFA;\n",
              "      box-shadow: 0px 1px 2px rgba(60, 64, 67, 0.3), 0px 1px 3px 1px rgba(60, 64, 67, 0.15);\n",
              "      fill: #174EA6;\n",
              "    }\n",
              "\n",
              "    .colab-df-buttons div {\n",
              "      margin-bottom: 4px;\n",
              "    }\n",
              "\n",
              "    [theme=dark] .colab-df-convert {\n",
              "      background-color: #3B4455;\n",
              "      fill: #D2E3FC;\n",
              "    }\n",
              "\n",
              "    [theme=dark] .colab-df-convert:hover {\n",
              "      background-color: #434B5C;\n",
              "      box-shadow: 0px 1px 3px 1px rgba(0, 0, 0, 0.15);\n",
              "      filter: drop-shadow(0px 1px 2px rgba(0, 0, 0, 0.3));\n",
              "      fill: #FFFFFF;\n",
              "    }\n",
              "  </style>\n",
              "\n",
              "    <script>\n",
              "      const buttonEl =\n",
              "        document.querySelector('#df-42970809-4a1c-4b90-8216-a84eb157e674 button.colab-df-convert');\n",
              "      buttonEl.style.display =\n",
              "        google.colab.kernel.accessAllowed ? 'block' : 'none';\n",
              "\n",
              "      async function convertToInteractive(key) {\n",
              "        const element = document.querySelector('#df-42970809-4a1c-4b90-8216-a84eb157e674');\n",
              "        const dataTable =\n",
              "          await google.colab.kernel.invokeFunction('convertToInteractive',\n",
              "                                                    [key], {});\n",
              "        if (!dataTable) return;\n",
              "\n",
              "        const docLinkHtml = 'Like what you see? Visit the ' +\n",
              "          '<a target=\"_blank\" href=https://colab.research.google.com/notebooks/data_table.ipynb>data table notebook</a>'\n",
              "          + ' to learn more about interactive tables.';\n",
              "        element.innerHTML = '';\n",
              "        dataTable['output_type'] = 'display_data';\n",
              "        await google.colab.output.renderOutput(dataTable, element);\n",
              "        const docLink = document.createElement('div');\n",
              "        docLink.innerHTML = docLinkHtml;\n",
              "        element.appendChild(docLink);\n",
              "      }\n",
              "    </script>\n",
              "  </div>\n",
              "\n",
              "\n",
              "<div id=\"df-02d053ff-95d1-4449-8c53-27686b882b2e\">\n",
              "  <button class=\"colab-df-quickchart\" onclick=\"quickchart('df-02d053ff-95d1-4449-8c53-27686b882b2e')\"\n",
              "            title=\"Suggest charts\"\n",
              "            style=\"display:none;\">\n",
              "\n",
              "<svg xmlns=\"http://www.w3.org/2000/svg\" height=\"24px\"viewBox=\"0 0 24 24\"\n",
              "     width=\"24px\">\n",
              "    <g>\n",
              "        <path d=\"M19 3H5c-1.1 0-2 .9-2 2v14c0 1.1.9 2 2 2h14c1.1 0 2-.9 2-2V5c0-1.1-.9-2-2-2zM9 17H7v-7h2v7zm4 0h-2V7h2v10zm4 0h-2v-4h2v4z\"/>\n",
              "    </g>\n",
              "</svg>\n",
              "  </button>\n",
              "\n",
              "<style>\n",
              "  .colab-df-quickchart {\n",
              "      --bg-color: #E8F0FE;\n",
              "      --fill-color: #1967D2;\n",
              "      --hover-bg-color: #E2EBFA;\n",
              "      --hover-fill-color: #174EA6;\n",
              "      --disabled-fill-color: #AAA;\n",
              "      --disabled-bg-color: #DDD;\n",
              "  }\n",
              "\n",
              "  [theme=dark] .colab-df-quickchart {\n",
              "      --bg-color: #3B4455;\n",
              "      --fill-color: #D2E3FC;\n",
              "      --hover-bg-color: #434B5C;\n",
              "      --hover-fill-color: #FFFFFF;\n",
              "      --disabled-bg-color: #3B4455;\n",
              "      --disabled-fill-color: #666;\n",
              "  }\n",
              "\n",
              "  .colab-df-quickchart {\n",
              "    background-color: var(--bg-color);\n",
              "    border: none;\n",
              "    border-radius: 50%;\n",
              "    cursor: pointer;\n",
              "    display: none;\n",
              "    fill: var(--fill-color);\n",
              "    height: 32px;\n",
              "    padding: 0;\n",
              "    width: 32px;\n",
              "  }\n",
              "\n",
              "  .colab-df-quickchart:hover {\n",
              "    background-color: var(--hover-bg-color);\n",
              "    box-shadow: 0 1px 2px rgba(60, 64, 67, 0.3), 0 1px 3px 1px rgba(60, 64, 67, 0.15);\n",
              "    fill: var(--button-hover-fill-color);\n",
              "  }\n",
              "\n",
              "  .colab-df-quickchart-complete:disabled,\n",
              "  .colab-df-quickchart-complete:disabled:hover {\n",
              "    background-color: var(--disabled-bg-color);\n",
              "    fill: var(--disabled-fill-color);\n",
              "    box-shadow: none;\n",
              "  }\n",
              "\n",
              "  .colab-df-spinner {\n",
              "    border: 2px solid var(--fill-color);\n",
              "    border-color: transparent;\n",
              "    border-bottom-color: var(--fill-color);\n",
              "    animation:\n",
              "      spin 1s steps(1) infinite;\n",
              "  }\n",
              "\n",
              "  @keyframes spin {\n",
              "    0% {\n",
              "      border-color: transparent;\n",
              "      border-bottom-color: var(--fill-color);\n",
              "      border-left-color: var(--fill-color);\n",
              "    }\n",
              "    20% {\n",
              "      border-color: transparent;\n",
              "      border-left-color: var(--fill-color);\n",
              "      border-top-color: var(--fill-color);\n",
              "    }\n",
              "    30% {\n",
              "      border-color: transparent;\n",
              "      border-left-color: var(--fill-color);\n",
              "      border-top-color: var(--fill-color);\n",
              "      border-right-color: var(--fill-color);\n",
              "    }\n",
              "    40% {\n",
              "      border-color: transparent;\n",
              "      border-right-color: var(--fill-color);\n",
              "      border-top-color: var(--fill-color);\n",
              "    }\n",
              "    60% {\n",
              "      border-color: transparent;\n",
              "      border-right-color: var(--fill-color);\n",
              "    }\n",
              "    80% {\n",
              "      border-color: transparent;\n",
              "      border-right-color: var(--fill-color);\n",
              "      border-bottom-color: var(--fill-color);\n",
              "    }\n",
              "    90% {\n",
              "      border-color: transparent;\n",
              "      border-bottom-color: var(--fill-color);\n",
              "    }\n",
              "  }\n",
              "</style>\n",
              "\n",
              "  <script>\n",
              "    async function quickchart(key) {\n",
              "      const quickchartButtonEl =\n",
              "        document.querySelector('#' + key + ' button');\n",
              "      quickchartButtonEl.disabled = true;  // To prevent multiple clicks.\n",
              "      quickchartButtonEl.classList.add('colab-df-spinner');\n",
              "      try {\n",
              "        const charts = await google.colab.kernel.invokeFunction(\n",
              "            'suggestCharts', [key], {});\n",
              "      } catch (error) {\n",
              "        console.error('Error during call to suggestCharts:', error);\n",
              "      }\n",
              "      quickchartButtonEl.classList.remove('colab-df-spinner');\n",
              "      quickchartButtonEl.classList.add('colab-df-quickchart-complete');\n",
              "    }\n",
              "    (() => {\n",
              "      let quickchartButtonEl =\n",
              "        document.querySelector('#df-02d053ff-95d1-4449-8c53-27686b882b2e button');\n",
              "      quickchartButtonEl.style.display =\n",
              "        google.colab.kernel.accessAllowed ? 'block' : 'none';\n",
              "    })();\n",
              "  </script>\n",
              "</div>\n",
              "\n",
              "    </div>\n",
              "  </div>\n"
            ],
            "application/vnd.google.colaboratory.intrinsic+json": {
              "type": "dataframe",
              "summary": "{\n  \"name\": \"scrape_topics()\",\n  \"rows\": 30,\n  \"fields\": [\n    {\n      \"column\": \"title\",\n      \"properties\": {\n        \"dtype\": \"string\",\n        \"num_unique_values\": 30,\n        \"samples\": [\n          \"Continuous integration\",\n          \"Bash\",\n          \"Clojure\"\n        ],\n        \"semantic_type\": \"\",\n        \"description\": \"\"\n      }\n    },\n    {\n      \"column\": \"description\",\n      \"properties\": {\n        \"dtype\": \"string\",\n        \"num_unique_values\": 30,\n        \"samples\": [\n          \"Automatically build and test your code as you push it upstream, preventing bugs from being deployed to production.\",\n          \"Bash is a shell and command language interpreter for the GNU operating system.\",\n          \"Clojure is a dynamic, general-purpose programming language.\"\n        ],\n        \"semantic_type\": \"\",\n        \"description\": \"\"\n      }\n    },\n    {\n      \"column\": \"url\",\n      \"properties\": {\n        \"dtype\": \"string\",\n        \"num_unique_values\": 30,\n        \"samples\": [\n          \"https://github.com/topics/continuous-integration\",\n          \"https://github.com/topics/bash\",\n          \"https://github.com/topics/clojure\"\n        ],\n        \"semantic_type\": \"\",\n        \"description\": \"\"\n      }\n    }\n  ]\n}"
            }
          },
          "metadata": {},
          "execution_count": 235
        }
      ]
    },
    {
      "cell_type": "code",
      "source": [
        "def scrape_topics_repos():\n",
        "    print('Scraping list of topics')\n",
        "    topics_df = scrape_topics()\n",
        "\n",
        "    os.makedirs('data', exist_ok=True)\n",
        "\n",
        "    for index, row in topics_df.iterrows():\n",
        "        print('Scrapping top repositories for \"{}\"' .format(row['title']))\n",
        "        scrape_topic(row['url'], 'data/{}.csv'.format(row['title']))"
      ],
      "metadata": {
        "id": "gVXcwX5oGho5"
      },
      "execution_count": null,
      "outputs": []
    },
    {
      "cell_type": "code",
      "source": [
        "scrape_topics_repos()"
      ],
      "metadata": {
        "colab": {
          "base_uri": "https://localhost:8080/"
        },
        "id": "9t19hB32OGV8",
        "outputId": "65f581ac-cc03-4f99-97b7-0cf27e7c27f4"
      },
      "execution_count": null,
      "outputs": [
        {
          "output_type": "stream",
          "name": "stdout",
          "text": [
            "Scraping list of topics\n",
            "Scrapping top repositories for \"3D\"\n",
            "Scrapping top repositories for \"Ajax\"\n",
            "Scrapping top repositories for \"Algorithm\"\n",
            "Scrapping top repositories for \"Amp\"\n",
            "Scrapping top repositories for \"Android\"\n",
            "Scrapping top repositories for \"Angular\"\n",
            "Scrapping top repositories for \"Ansible\"\n",
            "Scrapping top repositories for \"API\"\n",
            "Scrapping top repositories for \"Arduino\"\n",
            "Scrapping top repositories for \"ASP.NET\"\n",
            "Scrapping top repositories for \"Atom\"\n",
            "Scrapping top repositories for \"Awesome Lists\"\n",
            "Scrapping top repositories for \"Amazon Web Services\"\n",
            "Scrapping top repositories for \"Azure\"\n",
            "Scrapping top repositories for \"Babel\"\n",
            "Scrapping top repositories for \"Bash\"\n",
            "Scrapping top repositories for \"Bitcoin\"\n",
            "Scrapping top repositories for \"Bootstrap\"\n",
            "Scrapping top repositories for \"Bot\"\n",
            "Scrapping top repositories for \"C\"\n",
            "Scrapping top repositories for \"Chrome\"\n",
            "Scrapping top repositories for \"Chrome extension\"\n",
            "Scrapping top repositories for \"Command line interface\"\n",
            "Scrapping top repositories for \"Clojure\"\n",
            "Scrapping top repositories for \"Code quality\"\n",
            "Scrapping top repositories for \"Code review\"\n",
            "Scrapping top repositories for \"Compiler\"\n",
            "Scrapping top repositories for \"Continuous integration\"\n",
            "Scrapping top repositories for \"COVID-19\"\n",
            "Scrapping top repositories for \"C++\"\n"
          ]
        }
      ]
    },
    {
      "cell_type": "code",
      "source": [],
      "metadata": {
        "id": "DHsCEisjOJOu"
      },
      "execution_count": null,
      "outputs": []
    }
  ]
}